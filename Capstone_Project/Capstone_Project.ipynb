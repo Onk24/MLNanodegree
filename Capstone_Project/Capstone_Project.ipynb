{
 "cells": [
  {
   "cell_type": "markdown",
   "id": "fffd3ab8",
   "metadata": {},
   "source": [
    "# Importing Libraries "
   ]
  },
  {
   "cell_type": "code",
   "execution_count": 296,
   "id": "52cc4394",
   "metadata": {},
   "outputs": [],
   "source": [
    "#importing libraries\n",
    "import io\n",
    "import os\n",
    "import matplotlib.pyplot as plt\n",
    "import numpy as np \n",
    "import pandas as pd\n",
    "from sklearn.model_selection import train_test_split\n",
    "import seaborn as sns\n",
    "import boto3\n",
    "from datetime import datetime\n",
    "import sagemaker\n",
    "from sagemaker import get_execution_role\n",
    "from sklearn.preprocessing import MinMaxScaler\n",
    "import sklearn.model_selection\n",
    "from sklearn.neighbors import KNeighborsRegressor\n",
    "from sklearn.inspection import permutation_importance\n",
    "from sklearn.model_selection import GridSearchCV\n",
    "from sklearn.linear_model import LinearRegression\n",
    "from sklearn.linear_model import Ridge\n",
    "from sklearn.tree import DecisionTreeRegressor\n",
    "from sklearn.ensemble import RandomForestRegressor\n",
    "from sklearn.metrics import mean_squared_error\n",
    "from sklearn.model_selection import PredefinedSplit\n",
    "from sklearn.neighbors import KNeighborsRegressor\n",
    "%matplotlib inline"
   ]
  },
  {
   "cell_type": "markdown",
   "id": "1bbda5ae",
   "metadata": {},
   "source": [
    "# Problem Statement "
   ]
  },
  {
   "cell_type": "markdown",
   "id": "f6d16bbe",
   "metadata": {},
   "source": [
    "How can we determine the popularity of a song based on its features? "
   ]
  },
  {
   "cell_type": "markdown",
   "id": "1ba51403",
   "metadata": {},
   "source": [
    "# 1. Exploratory data analysis and Feature Engineering"
   ]
  },
  {
   "cell_type": "markdown",
   "id": "74b1eabe",
   "metadata": {},
   "source": [
    "## 1.1 Dataset information from Spotify "
   ]
  },
  {
   "cell_type": "markdown",
   "id": "45df84cb",
   "metadata": {},
   "source": [
    "Spotify has provided information of each attribute on their website. The attribute information can be found here: https://developer.spotify.com/documentation/web-api/reference/#endpoint-get-track \n",
    "Following are the attributes and their types:\n",
    "- id: string\n",
    "- name: string, name of the song\n",
    "- populariy:continuous, ranging from 0 to 100\n",
    "- duration_ms: continuous, duration of the song in ms\n",
    "- explicit: categorical, determines whether the song contains explicit content or not (0/1)\n",
    "- artists: list of strings, names of the artists\n",
    "- id_artists: list of strings, ids of the artists\n",
    "- release_date: date\n",
    "- danceability: continuous, determines how suitable is the song for dancing (ranges from 0 to 1)\n",
    "- energy: continuous, determined how energetic is the song (ranges from 0 to 1)\n",
    "- key: categorical, major key of the track with 11 unique values\n",
    "- loundness: continous, value in dB\n",
    "- mode: categorical, track is major (1) or minor (0)\n",
    "- speechiness: continous, ratio of spoken words to overall, 0(instrumental) and 1 (talk show)\n",
    "- accousticness: continous\n",
    "- instrumentalness: continous\n",
    "- liveness: continous, 0 (studio recorded) and 1(concert)\n",
    "- valence: continous, how positive is the music 0 (sad) and 1 (cheerful)\n",
    "- tempo: continous, tempo of track in BPM\n",
    "- time_signature: continous, specifies how many beats are in each bar"
   ]
  },
  {
   "cell_type": "markdown",
   "id": "c6f1084a",
   "metadata": {},
   "source": [
    "## 1.2 Importing data \n",
    "The data is available on: : https://www.kaggle.com/yamaerenay/spotify-dataset-19212020-160k-tracks <br>\n",
    "The dataset has been filtered for only 1990-2021 records. "
   ]
  },
  {
   "cell_type": "code",
   "execution_count": 2,
   "id": "dda62739",
   "metadata": {},
   "outputs": [],
   "source": [
    "#importing the data\n",
    "df = pd.read_csv(\"spotify_tracks.csv\")"
   ]
  },
  {
   "cell_type": "markdown",
   "id": "ba6dc506",
   "metadata": {},
   "source": [
    "## 1.3 High-level overview "
   ]
  },
  {
   "cell_type": "code",
   "execution_count": 3,
   "id": "42534ea6",
   "metadata": {},
   "outputs": [
    {
     "data": {
      "text/html": [
       "<div>\n",
       "<style scoped>\n",
       "    .dataframe tbody tr th:only-of-type {\n",
       "        vertical-align: middle;\n",
       "    }\n",
       "\n",
       "    .dataframe tbody tr th {\n",
       "        vertical-align: top;\n",
       "    }\n",
       "\n",
       "    .dataframe thead th {\n",
       "        text-align: right;\n",
       "    }\n",
       "</style>\n",
       "<table border=\"1\" class=\"dataframe\">\n",
       "  <thead>\n",
       "    <tr style=\"text-align: right;\">\n",
       "      <th></th>\n",
       "      <th>id</th>\n",
       "      <th>name</th>\n",
       "      <th>popularity</th>\n",
       "      <th>duration_ms</th>\n",
       "      <th>explicit</th>\n",
       "      <th>artists</th>\n",
       "      <th>id_artists</th>\n",
       "      <th>release_date</th>\n",
       "      <th>danceability</th>\n",
       "      <th>energy</th>\n",
       "      <th>key</th>\n",
       "      <th>loudness</th>\n",
       "      <th>mode</th>\n",
       "      <th>speechiness</th>\n",
       "      <th>acousticness</th>\n",
       "      <th>instrumentalness</th>\n",
       "      <th>liveness</th>\n",
       "      <th>valence</th>\n",
       "      <th>tempo</th>\n",
       "      <th>time_signature</th>\n",
       "    </tr>\n",
       "  </thead>\n",
       "  <tbody>\n",
       "    <tr>\n",
       "      <th>0</th>\n",
       "      <td>6catF1lDhNTjjGa2GxRQNN</td>\n",
       "      <td>You'll Never Walk Alone - Mono; 2002 Remaster</td>\n",
       "      <td>56</td>\n",
       "      <td>160187</td>\n",
       "      <td>0</td>\n",
       "      <td>['Gerry &amp; The Pacemakers']</td>\n",
       "      <td>['3UmBeGyNwr4iDWi1vTxWi8']</td>\n",
       "      <td>2/11/08</td>\n",
       "      <td>0.484</td>\n",
       "      <td>0.265</td>\n",
       "      <td>0</td>\n",
       "      <td>-11.101</td>\n",
       "      <td>1</td>\n",
       "      <td>0.0322</td>\n",
       "      <td>0.394</td>\n",
       "      <td>0.0</td>\n",
       "      <td>0.149</td>\n",
       "      <td>0.285</td>\n",
       "      <td>113.564</td>\n",
       "      <td>3</td>\n",
       "    </tr>\n",
       "    <tr>\n",
       "      <th>1</th>\n",
       "      <td>6Pkt6qVikqPBt9bEQy8iTz</td>\n",
       "      <td>A Lover's Concerto</td>\n",
       "      <td>41</td>\n",
       "      <td>159560</td>\n",
       "      <td>0</td>\n",
       "      <td>['The Toys']</td>\n",
       "      <td>['6lH5PpuiMa5SpfjoIOlwCS']</td>\n",
       "      <td>3/13/20</td>\n",
       "      <td>0.671</td>\n",
       "      <td>0.867</td>\n",
       "      <td>2</td>\n",
       "      <td>-2.706</td>\n",
       "      <td>1</td>\n",
       "      <td>0.0571</td>\n",
       "      <td>0.436</td>\n",
       "      <td>0.0</td>\n",
       "      <td>0.139</td>\n",
       "      <td>0.839</td>\n",
       "      <td>120.689</td>\n",
       "      <td>4</td>\n",
       "    </tr>\n",
       "  </tbody>\n",
       "</table>\n",
       "</div>"
      ],
      "text/plain": [
       "                       id                                           name  \\\n",
       "0  6catF1lDhNTjjGa2GxRQNN  You'll Never Walk Alone - Mono; 2002 Remaster   \n",
       "1  6Pkt6qVikqPBt9bEQy8iTz                             A Lover's Concerto   \n",
       "\n",
       "   popularity  duration_ms  explicit                     artists  \\\n",
       "0          56       160187         0  ['Gerry & The Pacemakers']   \n",
       "1          41       159560         0                ['The Toys']   \n",
       "\n",
       "                   id_artists release_date  danceability  energy  key  \\\n",
       "0  ['3UmBeGyNwr4iDWi1vTxWi8']      2/11/08         0.484   0.265    0   \n",
       "1  ['6lH5PpuiMa5SpfjoIOlwCS']      3/13/20         0.671   0.867    2   \n",
       "\n",
       "   loudness  mode  speechiness  acousticness  instrumentalness  liveness  \\\n",
       "0   -11.101     1       0.0322         0.394               0.0     0.149   \n",
       "1    -2.706     1       0.0571         0.436               0.0     0.139   \n",
       "\n",
       "   valence    tempo  time_signature  \n",
       "0    0.285  113.564               3  \n",
       "1    0.839  120.689               4  "
      ]
     },
     "execution_count": 3,
     "metadata": {},
     "output_type": "execute_result"
    }
   ],
   "source": [
    "df.head(2)"
   ]
  },
  {
   "cell_type": "code",
   "execution_count": 4,
   "id": "f6731257",
   "metadata": {},
   "outputs": [
    {
     "data": {
      "text/plain": [
       "(279057, 20)"
      ]
     },
     "execution_count": 4,
     "metadata": {},
     "output_type": "execute_result"
    }
   ],
   "source": [
    "#checking dimensions of data\n",
    "df.shape"
   ]
  },
  {
   "cell_type": "markdown",
   "id": "a7d10b6a",
   "metadata": {},
   "source": [
    "We have 279,057 records.\n",
    "Since we're trying to predict the popularity, we have 19 attributes and 1 target variable "
   ]
  },
  {
   "cell_type": "markdown",
   "id": "e67f1b58",
   "metadata": {},
   "source": [
    "## 1.4 Handling null value and duplicates "
   ]
  },
  {
   "cell_type": "code",
   "execution_count": 5,
   "id": "2821a06e",
   "metadata": {},
   "outputs": [],
   "source": [
    "#Omit missing values\n",
    "from data_processing import remove_null"
   ]
  },
  {
   "cell_type": "code",
   "execution_count": 6,
   "id": "8191d232",
   "metadata": {},
   "outputs": [],
   "source": [
    "df = remove_null(df)"
   ]
  },
  {
   "cell_type": "code",
   "execution_count": 7,
   "id": "d6de4d10",
   "metadata": {},
   "outputs": [
    {
     "data": {
      "text/plain": [
       "(279054, 20)"
      ]
     },
     "execution_count": 7,
     "metadata": {},
     "output_type": "execute_result"
    }
   ],
   "source": [
    "df.shape"
   ]
  },
  {
   "cell_type": "code",
   "execution_count": 8,
   "id": "01d67197",
   "metadata": {},
   "outputs": [],
   "source": [
    "#Dropping duplicates\n",
    "df.drop_duplicates(inplace = True)"
   ]
  },
  {
   "cell_type": "code",
   "execution_count": 9,
   "id": "d44ca388",
   "metadata": {},
   "outputs": [
    {
     "data": {
      "text/plain": [
       "(279054, 20)"
      ]
     },
     "execution_count": 9,
     "metadata": {},
     "output_type": "execute_result"
    }
   ],
   "source": [
    "df.shape"
   ]
  },
  {
   "cell_type": "markdown",
   "id": "514a1932",
   "metadata": {},
   "source": [
    "## 1.5 Convert variables to their types "
   ]
  },
  {
   "cell_type": "code",
   "execution_count": 10,
   "id": "46618981",
   "metadata": {},
   "outputs": [],
   "source": [
    "#coverting all the variable to their required types\n",
    "from data_processing import convert_variables"
   ]
  },
  {
   "cell_type": "code",
   "execution_count": 11,
   "id": "d6c8abed",
   "metadata": {},
   "outputs": [],
   "source": [
    "df = convert_variables(df)"
   ]
  },
  {
   "cell_type": "code",
   "execution_count": 12,
   "id": "09caa618",
   "metadata": {},
   "outputs": [
    {
     "data": {
      "text/plain": [
       "id                          object\n",
       "name                        object\n",
       "popularity                 float64\n",
       "duration_ms                float64\n",
       "explicit                     int64\n",
       "artists                     object\n",
       "id_artists                  object\n",
       "release_date        datetime64[ns]\n",
       "danceability               float64\n",
       "energy                     float64\n",
       "key                          int64\n",
       "loudness                   float64\n",
       "mode                         int64\n",
       "speechiness                float64\n",
       "acousticness               float64\n",
       "instrumentalness           float64\n",
       "liveness                   float64\n",
       "valence                    float64\n",
       "tempo                      float64\n",
       "time_signature               int64\n",
       "dtype: object"
      ]
     },
     "execution_count": 12,
     "metadata": {},
     "output_type": "execute_result"
    }
   ],
   "source": [
    "df.dtypes"
   ]
  },
  {
   "cell_type": "markdown",
   "id": "3848028d",
   "metadata": {},
   "source": [
    "## 1.6 Analyzing variables "
   ]
  },
  {
   "cell_type": "code",
   "execution_count": 13,
   "id": "808959b9",
   "metadata": {},
   "outputs": [
    {
     "data": {
      "text/html": [
       "<div>\n",
       "<style scoped>\n",
       "    .dataframe tbody tr th:only-of-type {\n",
       "        vertical-align: middle;\n",
       "    }\n",
       "\n",
       "    .dataframe tbody tr th {\n",
       "        vertical-align: top;\n",
       "    }\n",
       "\n",
       "    .dataframe thead th {\n",
       "        text-align: right;\n",
       "    }\n",
       "</style>\n",
       "<table border=\"1\" class=\"dataframe\">\n",
       "  <thead>\n",
       "    <tr style=\"text-align: right;\">\n",
       "      <th></th>\n",
       "      <th>popularity</th>\n",
       "      <th>duration_ms</th>\n",
       "      <th>explicit</th>\n",
       "      <th>danceability</th>\n",
       "      <th>energy</th>\n",
       "      <th>key</th>\n",
       "      <th>loudness</th>\n",
       "      <th>mode</th>\n",
       "      <th>speechiness</th>\n",
       "      <th>acousticness</th>\n",
       "      <th>instrumentalness</th>\n",
       "      <th>liveness</th>\n",
       "      <th>valence</th>\n",
       "      <th>tempo</th>\n",
       "      <th>time_signature</th>\n",
       "    </tr>\n",
       "  </thead>\n",
       "  <tbody>\n",
       "    <tr>\n",
       "      <th>count</th>\n",
       "      <td>279054.000000</td>\n",
       "      <td>2.790540e+05</td>\n",
       "      <td>279054.000000</td>\n",
       "      <td>279054.000000</td>\n",
       "      <td>279054.000000</td>\n",
       "      <td>279054.000000</td>\n",
       "      <td>279054.000000</td>\n",
       "      <td>279054.000000</td>\n",
       "      <td>279054.000000</td>\n",
       "      <td>279054.000000</td>\n",
       "      <td>279054.000000</td>\n",
       "      <td>279054.000000</td>\n",
       "      <td>279054.000000</td>\n",
       "      <td>279054.000000</td>\n",
       "      <td>279054.000000</td>\n",
       "    </tr>\n",
       "    <tr>\n",
       "      <th>mean</th>\n",
       "      <td>35.919421</td>\n",
       "      <td>2.357389e+05</td>\n",
       "      <td>0.082514</td>\n",
       "      <td>0.596745</td>\n",
       "      <td>0.628055</td>\n",
       "      <td>5.302264</td>\n",
       "      <td>-8.295497</td>\n",
       "      <td>0.626943</td>\n",
       "      <td>0.091717</td>\n",
       "      <td>0.317125</td>\n",
       "      <td>0.076788</td>\n",
       "      <td>0.208619</td>\n",
       "      <td>0.541521</td>\n",
       "      <td>121.105100</td>\n",
       "      <td>3.917561</td>\n",
       "    </tr>\n",
       "    <tr>\n",
       "      <th>std</th>\n",
       "      <td>17.702107</td>\n",
       "      <td>1.172200e+05</td>\n",
       "      <td>0.275147</td>\n",
       "      <td>0.160058</td>\n",
       "      <td>0.226708</td>\n",
       "      <td>3.558031</td>\n",
       "      <td>4.195515</td>\n",
       "      <td>0.483618</td>\n",
       "      <td>0.131008</td>\n",
       "      <td>0.300996</td>\n",
       "      <td>0.224631</td>\n",
       "      <td>0.183933</td>\n",
       "      <td>0.254276</td>\n",
       "      <td>29.287494</td>\n",
       "      <td>0.387153</td>\n",
       "    </tr>\n",
       "    <tr>\n",
       "      <th>min</th>\n",
       "      <td>0.000000</td>\n",
       "      <td>4.937000e+03</td>\n",
       "      <td>0.000000</td>\n",
       "      <td>0.000000</td>\n",
       "      <td>0.000000</td>\n",
       "      <td>0.000000</td>\n",
       "      <td>-60.000000</td>\n",
       "      <td>0.000000</td>\n",
       "      <td>0.000000</td>\n",
       "      <td>0.000000</td>\n",
       "      <td>0.000000</td>\n",
       "      <td>0.000000</td>\n",
       "      <td>0.000000</td>\n",
       "      <td>0.000000</td>\n",
       "      <td>0.000000</td>\n",
       "    </tr>\n",
       "    <tr>\n",
       "      <th>25%</th>\n",
       "      <td>24.000000</td>\n",
       "      <td>1.900705e+05</td>\n",
       "      <td>0.000000</td>\n",
       "      <td>0.495000</td>\n",
       "      <td>0.472000</td>\n",
       "      <td>2.000000</td>\n",
       "      <td>-10.188000</td>\n",
       "      <td>0.000000</td>\n",
       "      <td>0.033500</td>\n",
       "      <td>0.042200</td>\n",
       "      <td>0.000000</td>\n",
       "      <td>0.095900</td>\n",
       "      <td>0.337000</td>\n",
       "      <td>97.960250</td>\n",
       "      <td>4.000000</td>\n",
       "    </tr>\n",
       "    <tr>\n",
       "      <th>50%</th>\n",
       "      <td>37.000000</td>\n",
       "      <td>2.259200e+05</td>\n",
       "      <td>0.000000</td>\n",
       "      <td>0.609000</td>\n",
       "      <td>0.653000</td>\n",
       "      <td>5.000000</td>\n",
       "      <td>-7.384000</td>\n",
       "      <td>1.000000</td>\n",
       "      <td>0.045300</td>\n",
       "      <td>0.221000</td>\n",
       "      <td>0.000005</td>\n",
       "      <td>0.132000</td>\n",
       "      <td>0.546000</td>\n",
       "      <td>120.155000</td>\n",
       "      <td>4.000000</td>\n",
       "    </tr>\n",
       "    <tr>\n",
       "      <th>75%</th>\n",
       "      <td>48.000000</td>\n",
       "      <td>2.676670e+05</td>\n",
       "      <td>0.000000</td>\n",
       "      <td>0.713000</td>\n",
       "      <td>0.813000</td>\n",
       "      <td>9.000000</td>\n",
       "      <td>-5.471000</td>\n",
       "      <td>1.000000</td>\n",
       "      <td>0.082600</td>\n",
       "      <td>0.553000</td>\n",
       "      <td>0.001170</td>\n",
       "      <td>0.270000</td>\n",
       "      <td>0.754000</td>\n",
       "      <td>139.171750</td>\n",
       "      <td>4.000000</td>\n",
       "    </tr>\n",
       "    <tr>\n",
       "      <th>max</th>\n",
       "      <td>100.000000</td>\n",
       "      <td>5.403500e+06</td>\n",
       "      <td>1.000000</td>\n",
       "      <td>0.991000</td>\n",
       "      <td>1.000000</td>\n",
       "      <td>11.000000</td>\n",
       "      <td>2.534000</td>\n",
       "      <td>1.000000</td>\n",
       "      <td>0.968000</td>\n",
       "      <td>0.996000</td>\n",
       "      <td>1.000000</td>\n",
       "      <td>1.000000</td>\n",
       "      <td>1.000000</td>\n",
       "      <td>246.381000</td>\n",
       "      <td>5.000000</td>\n",
       "    </tr>\n",
       "  </tbody>\n",
       "</table>\n",
       "</div>"
      ],
      "text/plain": [
       "          popularity   duration_ms       explicit   danceability  \\\n",
       "count  279054.000000  2.790540e+05  279054.000000  279054.000000   \n",
       "mean       35.919421  2.357389e+05       0.082514       0.596745   \n",
       "std        17.702107  1.172200e+05       0.275147       0.160058   \n",
       "min         0.000000  4.937000e+03       0.000000       0.000000   \n",
       "25%        24.000000  1.900705e+05       0.000000       0.495000   \n",
       "50%        37.000000  2.259200e+05       0.000000       0.609000   \n",
       "75%        48.000000  2.676670e+05       0.000000       0.713000   \n",
       "max       100.000000  5.403500e+06       1.000000       0.991000   \n",
       "\n",
       "              energy            key       loudness           mode  \\\n",
       "count  279054.000000  279054.000000  279054.000000  279054.000000   \n",
       "mean        0.628055       5.302264      -8.295497       0.626943   \n",
       "std         0.226708       3.558031       4.195515       0.483618   \n",
       "min         0.000000       0.000000     -60.000000       0.000000   \n",
       "25%         0.472000       2.000000     -10.188000       0.000000   \n",
       "50%         0.653000       5.000000      -7.384000       1.000000   \n",
       "75%         0.813000       9.000000      -5.471000       1.000000   \n",
       "max         1.000000      11.000000       2.534000       1.000000   \n",
       "\n",
       "         speechiness   acousticness  instrumentalness       liveness  \\\n",
       "count  279054.000000  279054.000000     279054.000000  279054.000000   \n",
       "mean        0.091717       0.317125          0.076788       0.208619   \n",
       "std         0.131008       0.300996          0.224631       0.183933   \n",
       "min         0.000000       0.000000          0.000000       0.000000   \n",
       "25%         0.033500       0.042200          0.000000       0.095900   \n",
       "50%         0.045300       0.221000          0.000005       0.132000   \n",
       "75%         0.082600       0.553000          0.001170       0.270000   \n",
       "max         0.968000       0.996000          1.000000       1.000000   \n",
       "\n",
       "             valence          tempo  time_signature  \n",
       "count  279054.000000  279054.000000   279054.000000  \n",
       "mean        0.541521     121.105100        3.917561  \n",
       "std         0.254276      29.287494        0.387153  \n",
       "min         0.000000       0.000000        0.000000  \n",
       "25%         0.337000      97.960250        4.000000  \n",
       "50%         0.546000     120.155000        4.000000  \n",
       "75%         0.754000     139.171750        4.000000  \n",
       "max         1.000000     246.381000        5.000000  "
      ]
     },
     "execution_count": 13,
     "metadata": {},
     "output_type": "execute_result"
    }
   ],
   "source": [
    "#checking summary stats of dataframe\n",
    "df.describe()"
   ]
  },
  {
   "cell_type": "code",
   "execution_count": 14,
   "id": "6bb872ad",
   "metadata": {},
   "outputs": [
    {
     "data": {
      "text/html": [
       "<div>\n",
       "<style scoped>\n",
       "    .dataframe tbody tr th:only-of-type {\n",
       "        vertical-align: middle;\n",
       "    }\n",
       "\n",
       "    .dataframe tbody tr th {\n",
       "        vertical-align: top;\n",
       "    }\n",
       "\n",
       "    .dataframe thead th {\n",
       "        text-align: right;\n",
       "    }\n",
       "</style>\n",
       "<table border=\"1\" class=\"dataframe\">\n",
       "  <thead>\n",
       "    <tr style=\"text-align: right;\">\n",
       "      <th></th>\n",
       "      <th>id</th>\n",
       "      <th>name</th>\n",
       "      <th>artists</th>\n",
       "      <th>id_artists</th>\n",
       "    </tr>\n",
       "  </thead>\n",
       "  <tbody>\n",
       "    <tr>\n",
       "      <th>count</th>\n",
       "      <td>279054</td>\n",
       "      <td>279054</td>\n",
       "      <td>279054</td>\n",
       "      <td>279054</td>\n",
       "    </tr>\n",
       "    <tr>\n",
       "      <th>unique</th>\n",
       "      <td>279054</td>\n",
       "      <td>224103</td>\n",
       "      <td>79226</td>\n",
       "      <td>79877</td>\n",
       "    </tr>\n",
       "    <tr>\n",
       "      <th>top</th>\n",
       "      <td>0CUkx7g93TfNjhIHOnyKw1</td>\n",
       "      <td>Year 3000</td>\n",
       "      <td>['Die drei ???']</td>\n",
       "      <td>['3meJIgRw7YleJrmbpbJK6S']</td>\n",
       "    </tr>\n",
       "    <tr>\n",
       "      <th>freq</th>\n",
       "      <td>1</td>\n",
       "      <td>88</td>\n",
       "      <td>1928</td>\n",
       "      <td>1928</td>\n",
       "    </tr>\n",
       "  </tbody>\n",
       "</table>\n",
       "</div>"
      ],
      "text/plain": [
       "                            id       name           artists  \\\n",
       "count                   279054     279054            279054   \n",
       "unique                  279054     224103             79226   \n",
       "top     0CUkx7g93TfNjhIHOnyKw1  Year 3000  ['Die drei ???']   \n",
       "freq                         1         88              1928   \n",
       "\n",
       "                        id_artists  \n",
       "count                       279054  \n",
       "unique                       79877  \n",
       "top     ['3meJIgRw7YleJrmbpbJK6S']  \n",
       "freq                          1928  "
      ]
     },
     "execution_count": 14,
     "metadata": {},
     "output_type": "execute_result"
    }
   ],
   "source": [
    "df.describe(include = ['O'])"
   ]
  },
  {
   "cell_type": "markdown",
   "id": "7773f128",
   "metadata": {},
   "source": [
    "There are too many names, ids, artits, id_artists. For the sake of simplicity we drop these variables."
   ]
  },
  {
   "cell_type": "code",
   "execution_count": 15,
   "id": "71401264",
   "metadata": {},
   "outputs": [],
   "source": [
    "#dropping variables\n",
    "from data_processing import drop_variables"
   ]
  },
  {
   "cell_type": "code",
   "execution_count": 16,
   "id": "37b7570d",
   "metadata": {},
   "outputs": [],
   "source": [
    "df = drop_variables(df)"
   ]
  },
  {
   "cell_type": "markdown",
   "id": "7e04a2d1",
   "metadata": {},
   "source": [
    "### Target Variable "
   ]
  },
  {
   "cell_type": "code",
   "execution_count": 17,
   "id": "fe8934c2",
   "metadata": {},
   "outputs": [
    {
     "data": {
      "text/plain": [
       "35.91942061393135"
      ]
     },
     "execution_count": 17,
     "metadata": {},
     "output_type": "execute_result"
    }
   ],
   "source": [
    "np.mean(df[\"popularity\"])"
   ]
  },
  {
   "cell_type": "code",
   "execution_count": 18,
   "id": "7485410a",
   "metadata": {},
   "outputs": [
    {
     "data": {
      "image/png": "[encoded data removed]",
      "text/plain": [
       "<Figure size 360x360 with 1 Axes>"
      ]
     },
     "metadata": {
      "needs_background": "light"
     },
     "output_type": "display_data"
    }
   ],
   "source": [
    "sns.displot(df[\"popularity\"]);"
   ]
  },
  {
   "cell_type": "markdown",
   "id": "9449ed1b",
   "metadata": {},
   "source": [
    "### Duration, danceability and energy "
   ]
  },
  {
   "cell_type": "code",
   "execution_count": 19,
   "id": "caf18185",
   "metadata": {},
   "outputs": [
    {
     "data": {
      "image/png": "[encoded data removed]",
      "text/plain": [
       "<Figure size 1080x288 with 3 Axes>"
      ]
     },
     "metadata": {
      "needs_background": "light"
     },
     "output_type": "display_data"
    }
   ],
   "source": [
    "fig, ax = plt.subplots(1,3, figsize = (15,4));\n",
    "sns.histplot(df[\"duration_ms\"], ax = ax[0]);\n",
    "sns.histplot(df[\"danceability\"], ax = ax[1]);\n",
    "sns.histplot(df[\"energy\"], ax = ax[2]);"
   ]
  },
  {
   "cell_type": "markdown",
   "id": "c94209a1",
   "metadata": {},
   "source": [
    "### Key, loudness and mode"
   ]
  },
  {
   "cell_type": "code",
   "execution_count": 20,
   "id": "43962f13",
   "metadata": {},
   "outputs": [
    {
     "data": {
      "image/png": "[encoded data removed]",
      "text/plain": [
       "<Figure size 1080x288 with 3 Axes>"
      ]
     },
     "metadata": {
      "needs_background": "light"
     },
     "output_type": "display_data"
    }
   ],
   "source": [
    "fig, ax = plt.subplots(1,3, figsize = (15,4));\n",
    "sns.histplot(df[\"key\"], ax = ax[0]);\n",
    "sns.histplot(df[\"loudness\"], ax = ax[1]);\n",
    "sns.countplot(x = df[\"mode\"], ax = ax[2]);"
   ]
  },
  {
   "cell_type": "markdown",
   "id": "2849d360",
   "metadata": {},
   "source": [
    "### Speechiness, acousticness and liveness"
   ]
  },
  {
   "cell_type": "code",
   "execution_count": 21,
   "id": "d87c36f7",
   "metadata": {},
   "outputs": [
    {
     "data": {
      "image/png": "[encoded data removed]",
      "text/plain": [
       "<Figure size 1080x288 with 3 Axes>"
      ]
     },
     "metadata": {
      "needs_background": "light"
     },
     "output_type": "display_data"
    }
   ],
   "source": [
    "fig, ax = plt.subplots(1,3, figsize = (15,4));\n",
    "sns.histplot(df[\"speechiness\"], ax = ax[0]);\n",
    "sns.histplot(df[\"acousticness\"], ax = ax[1]);\n",
    "sns.histplot(df[\"liveness\"], ax = ax[2]);"
   ]
  },
  {
   "cell_type": "markdown",
   "id": "90d192f5",
   "metadata": {},
   "source": [
    "### valence, tempo, time_signature"
   ]
  },
  {
   "cell_type": "code",
   "execution_count": 22,
   "id": "3d298c83",
   "metadata": {},
   "outputs": [
    {
     "data": {
      "image/png": "[encoded data removed]",
      "text/plain": [
       "<Figure size 1080x288 with 3 Axes>"
      ]
     },
     "metadata": {
      "needs_background": "light"
     },
     "output_type": "display_data"
    }
   ],
   "source": [
    "fig, ax = plt.subplots(1,3, figsize = (15,4));\n",
    "sns.histplot(df[\"valence\"], ax = ax[0]);\n",
    "sns.histplot(df[\"tempo\"], ax = ax[1]);\n",
    "sns.histplot(x = df[\"time_signature\"], ax = ax[2]);"
   ]
  },
  {
   "cell_type": "markdown",
   "id": "b3efbe4e",
   "metadata": {},
   "source": [
    "### instrumentalness and explicit"
   ]
  },
  {
   "cell_type": "code",
   "execution_count": 23,
   "id": "f72e1ed6",
   "metadata": {},
   "outputs": [
    {
     "name": "stderr",
     "output_type": "stream",
     "text": [
      "/home/ec2-user/anaconda3/envs/amazonei_mxnet_p36/lib/python3.6/site-packages/seaborn/_decorators.py:43: FutureWarning: Pass the following variable as a keyword arg: x. From version 0.12, the only valid positional argument will be `data`, and passing other arguments without an explicit keyword will result in an error or misinterpretation.\n",
      "  FutureWarning\n"
     ]
    },
    {
     "data": {
      "image/png": "[encoded data removed]",
      "text/plain": [
       "<Figure size 1296x288 with 2 Axes>"
      ]
     },
     "metadata": {
      "needs_background": "light"
     },
     "output_type": "display_data"
    }
   ],
   "source": [
    "fig, ax = plt.subplots(1,2, figsize = (18,4));\n",
    "sns.histplot(df[\"instrumentalness\"], ax = ax[0]);\n",
    "sns.countplot(df[\"explicit\"], ax = ax[1]);"
   ]
  },
  {
   "cell_type": "markdown",
   "id": "a016f2f8",
   "metadata": {},
   "source": [
    "## 1.7 Encoding variables \n"
   ]
  },
  {
   "cell_type": "code",
   "execution_count": 24,
   "id": "bdc307f2",
   "metadata": {},
   "outputs": [],
   "source": [
    "#encode release data as days since released\n",
    "from data_processing import encode_date\n",
    "df = encode_date(df)"
   ]
  },
  {
   "cell_type": "markdown",
   "id": "2066c3b5",
   "metadata": {},
   "source": [
    "## 1.8 Dividing sets into train, test, validation"
   ]
  },
  {
   "cell_type": "code",
   "execution_count": 25,
   "id": "3406fdbe",
   "metadata": {},
   "outputs": [],
   "source": [
    "from data_processing import split_data"
   ]
  },
  {
   "cell_type": "code",
   "execution_count": 26,
   "id": "81735f5c",
   "metadata": {},
   "outputs": [],
   "source": [
    "X_train, y_train, X_val, y_val, X_test, y_test = split_data(df)"
   ]
  },
  {
   "cell_type": "markdown",
   "id": "83bb7b5d",
   "metadata": {},
   "source": [
    "## 1.9 Normalizing variables "
   ]
  },
  {
   "cell_type": "code",
   "execution_count": 27,
   "id": "ddacd313",
   "metadata": {},
   "outputs": [],
   "source": [
    "#normalize the features\n",
    "from data_processing import normalize_data"
   ]
  },
  {
   "cell_type": "code",
   "execution_count": 28,
   "id": "99e866b5",
   "metadata": {},
   "outputs": [],
   "source": [
    "X_train_n, X_val_n, X_test_n = normalize_data(X_train, X_val, X_test)"
   ]
  },
  {
   "cell_type": "markdown",
   "id": "dc12d06d",
   "metadata": {},
   "source": [
    "## 1.10 Feature Selection "
   ]
  },
  {
   "cell_type": "code",
   "execution_count": 29,
   "id": "6fe1597f",
   "metadata": {},
   "outputs": [],
   "source": [
    "import sklearn.model_selection\n",
    "from sklearn.ensemble import RandomForestRegressor\n"
   ]
  },
  {
   "cell_type": "code",
   "execution_count": 30,
   "id": "35df92ba",
   "metadata": {},
   "outputs": [
    {
     "data": {
      "text/plain": [
       "RandomForestRegressor(max_depth=5, n_estimators=10, random_state=0)"
      ]
     },
     "execution_count": 30,
     "metadata": {},
     "output_type": "execute_result"
    }
   ],
   "source": [
    "#random forest regressor to check for feature importance\n",
    "regr = RandomForestRegressor(max_depth=5, random_state=0, n_estimators = 10)\n",
    "regr.fit(X_train_n, y_train)"
   ]
  },
  {
   "cell_type": "code",
   "execution_count": 31,
   "id": "b0c9e9bc",
   "metadata": {},
   "outputs": [],
   "source": [
    "#checking permutation importance of features\n",
    "feature_importances_permutations = permutation_importance(\n",
    "    regr, X_train_n, y_train, scoring=\"neg_mean_squared_error\"\n",
    ")"
   ]
  },
  {
   "cell_type": "code",
   "execution_count": 32,
   "id": "b01778d3",
   "metadata": {},
   "outputs": [],
   "source": [
    "sorted_idx = feature_importances_permutations.importances_mean.argsort()"
   ]
  },
  {
   "cell_type": "code",
   "execution_count": 33,
   "id": "efbebd23",
   "metadata": {},
   "outputs": [
    {
     "data": {
      "image/png": "[encoded data removed]",
      "text/plain": [
       "<Figure size 720x432 with 1 Axes>"
      ]
     },
     "metadata": {
      "needs_background": "light"
     },
     "output_type": "display_data"
    }
   ],
   "source": [
    "fig, ax = plt.subplots(figsize = (10,6))\n",
    "ax.boxplot(feature_importances_permutations.importances[sorted_idx].T,\n",
    "           vert=False,\n",
    "          labels=X_train_n.columns[sorted_idx])\n",
    "ax.set_title(\"Permutation Importance of features\")\n",
    "fig.tight_layout()\n",
    "plt.show()"
   ]
  },
  {
   "cell_type": "code",
   "execution_count": 34,
   "id": "e1c2ec69",
   "metadata": {},
   "outputs": [],
   "source": [
    "features = X_train_n.columns"
   ]
  },
  {
   "cell_type": "code",
   "execution_count": 35,
   "id": "565ee111",
   "metadata": {},
   "outputs": [],
   "source": [
    "features_selected = list(features[feature_importances_permutations.importances_mean >= 1])"
   ]
  },
  {
   "cell_type": "code",
   "execution_count": 36,
   "id": "ba9e58fc",
   "metadata": {},
   "outputs": [
    {
     "data": {
      "text/plain": [
       "['duration_ms',\n",
       " 'explicit',\n",
       " 'loudness',\n",
       " 'acousticness',\n",
       " 'instrumentalness',\n",
       " 'tempo',\n",
       " 'days']"
      ]
     },
     "execution_count": 36,
     "metadata": {},
     "output_type": "execute_result"
    }
   ],
   "source": [
    "features_selected"
   ]
  },
  {
   "cell_type": "code",
   "execution_count": 37,
   "id": "cba42d4c",
   "metadata": {},
   "outputs": [],
   "source": [
    "#features selected are passed and the data is filtered\n",
    "from data_processing import select_features"
   ]
  },
  {
   "cell_type": "code",
   "execution_count": 38,
   "id": "981392ad",
   "metadata": {},
   "outputs": [],
   "source": [
    "X_train_n2, X_val_n2, X_test_n2 = select_features(X_train_n, X_val_n, X_test_n, features_selected)"
   ]
  },
  {
   "cell_type": "markdown",
   "id": "bcb01876",
   "metadata": {},
   "source": [
    "# 2. Predictive Modeling "
   ]
  },
  {
   "cell_type": "code",
   "execution_count": 189,
   "id": "e38bce02",
   "metadata": {},
   "outputs": [],
   "source": [
    "#Combine training and validation set for grid search cv to work\n",
    "X_n2 = X_train_n2.append(X_val_n2)\n",
    "X_n2.reset_index(drop = True, inplace = True)\n",
    "y = y_train.append(y_val)\n",
    "y.reset_index(drop = True, inplace = True)\n",
    "split_index = [-1 if x in X_train_n2.index else 0 for x in X_n2.index]\n",
    "pds = PredefinedSplit(test_fold = split_index)"
   ]
  },
  {
   "cell_type": "code",
   "execution_count": 190,
   "id": "42627abc",
   "metadata": {},
   "outputs": [],
   "source": [
    "summary = pd.DataFrame(columns = [\"Classifier\", \"Training set RMSE\", \"Validation set RMSE\"])"
   ]
  },
  {
   "cell_type": "markdown",
   "id": "218a88c6",
   "metadata": {},
   "source": [
    "## 2.0 Null Model \n",
    "This model uses no features and predicts mean to minimize RMSE "
   ]
  },
  {
   "cell_type": "code",
   "execution_count": 191,
   "id": "b8b6db20",
   "metadata": {},
   "outputs": [],
   "source": [
    "#predicting mean value of target as it is the single value which gives the least RMSE\n",
    "y_train_mean  = np.mean(y_train)\n",
    "train_rmse = np.round(mean_squared_error([y_train_mean] * y_train.shape[0], y_train, squared = False), 2)\n",
    "val_rmse = np.round(mean_squared_error([y_train_mean] * y_val.shape[0], y_val, squared = False), 2)"
   ]
  },
  {
   "cell_type": "code",
   "execution_count": 192,
   "id": "63c48292",
   "metadata": {},
   "outputs": [],
   "source": [
    "summary = summary.append({\"Classifier\":\"Null Model\", \"Training set RMSE\":train_rmse, \"Validation set RMSE\": val_rmse}, ignore_index = True)"
   ]
  },
  {
   "cell_type": "code",
   "execution_count": 193,
   "id": "af709189",
   "metadata": {},
   "outputs": [
    {
     "data": {
      "text/html": [
       "<div>\n",
       "<style scoped>\n",
       "    .dataframe tbody tr th:only-of-type {\n",
       "        vertical-align: middle;\n",
       "    }\n",
       "\n",
       "    .dataframe tbody tr th {\n",
       "        vertical-align: top;\n",
       "    }\n",
       "\n",
       "    .dataframe thead th {\n",
       "        text-align: right;\n",
       "    }\n",
       "</style>\n",
       "<table border=\"1\" class=\"dataframe\">\n",
       "  <thead>\n",
       "    <tr style=\"text-align: right;\">\n",
       "      <th></th>\n",
       "      <th>Classifier</th>\n",
       "      <th>Training set RMSE</th>\n",
       "      <th>Validation set RMSE</th>\n",
       "    </tr>\n",
       "  </thead>\n",
       "  <tbody>\n",
       "    <tr>\n",
       "      <th>0</th>\n",
       "      <td>Null Model</td>\n",
       "      <td>17.71</td>\n",
       "      <td>17.48</td>\n",
       "    </tr>\n",
       "  </tbody>\n",
       "</table>\n",
       "</div>"
      ],
      "text/plain": [
       "   Classifier  Training set RMSE  Validation set RMSE\n",
       "0  Null Model              17.71                17.48"
      ]
     },
     "execution_count": 193,
     "metadata": {},
     "output_type": "execute_result"
    }
   ],
   "source": [
    "summary"
   ]
  },
  {
   "cell_type": "markdown",
   "id": "58e55bb5",
   "metadata": {},
   "source": [
    "## 2.1 Linear Models "
   ]
  },
  {
   "cell_type": "code",
   "execution_count": 194,
   "id": "aabc3e4d",
   "metadata": {},
   "outputs": [],
   "source": [
    "#creating model object\n",
    "lr = Ridge()"
   ]
  },
  {
   "cell_type": "code",
   "execution_count": 195,
   "id": "e28b71ee",
   "metadata": {},
   "outputs": [],
   "source": [
    "#declaring value of alpha\n",
    "parameters = {'alpha':[0,0.1,0.5,1,2,5,10,100, 1000]}"
   ]
  },
  {
   "cell_type": "code",
   "execution_count": 196,
   "id": "02ff0a3c",
   "metadata": {},
   "outputs": [
    {
     "data": {
      "text/plain": [
       "GridSearchCV(cv=PredefinedSplit(test_fold=array([-1, -1, ...,  0,  0])),\n",
       "             estimator=Ridge(),\n",
       "             param_grid={'alpha': [0, 0.1, 0.5, 1, 2, 5, 10, 100, 1000]},\n",
       "             scoring='neg_root_mean_squared_error')"
      ]
     },
     "execution_count": 196,
     "metadata": {},
     "output_type": "execute_result"
    }
   ],
   "source": [
    "#creating GridSearchCV object\n",
    "clf = GridSearchCV(lr, parameters, scoring = 'neg_root_mean_squared_error', cv = pds)\n",
    "clf.fit(X_n2, y)"
   ]
  },
  {
   "cell_type": "code",
   "execution_count": 197,
   "id": "23610be8",
   "metadata": {},
   "outputs": [
    {
     "data": {
      "text/plain": [
       "{'alpha': 1000}"
      ]
     },
     "execution_count": 197,
     "metadata": {},
     "output_type": "execute_result"
    }
   ],
   "source": [
    "clf.best_params_"
   ]
  },
  {
   "cell_type": "code",
   "execution_count": 198,
   "id": "23deb65a",
   "metadata": {},
   "outputs": [
    {
     "data": {
      "text/plain": [
       "{'mean_fit_time': array([0.06460357, 0.02746487, 0.02803779, 0.02756715, 0.02783179,\n",
       "        0.0276854 , 0.02841973, 0.02843094, 0.02755785]),\n",
       " 'std_fit_time': array([0., 0., 0., 0., 0., 0., 0., 0., 0.]),\n",
       " 'mean_score_time': array([0.00264096, 0.00256944, 0.00258923, 0.00250626, 0.00252867,\n",
       "        0.00255156, 0.00255942, 0.00260735, 0.00255132]),\n",
       " 'std_score_time': array([0., 0., 0., 0., 0., 0., 0., 0., 0.]),\n",
       " 'param_alpha': masked_array(data=[0, 0.1, 0.5, 1, 2, 5, 10, 100, 1000],\n",
       "              mask=[False, False, False, False, False, False, False, False,\n",
       "                    False],\n",
       "        fill_value='?',\n",
       "             dtype=object),\n",
       " 'params': [{'alpha': 0},\n",
       "  {'alpha': 0.1},\n",
       "  {'alpha': 0.5},\n",
       "  {'alpha': 1},\n",
       "  {'alpha': 2},\n",
       "  {'alpha': 5},\n",
       "  {'alpha': 10},\n",
       "  {'alpha': 100},\n",
       "  {'alpha': 1000}],\n",
       " 'split0_test_score': array([-16.74947145, -16.74937384, -16.74898465, -16.74850093,\n",
       "        -16.74754254, -16.74473751, -16.74028113, -16.68749109,\n",
       "        -16.59486297]),\n",
       " 'mean_test_score': array([-16.74947145, -16.74937384, -16.74898465, -16.74850093,\n",
       "        -16.74754254, -16.74473751, -16.74028113, -16.68749109,\n",
       "        -16.59486297]),\n",
       " 'std_test_score': array([0., 0., 0., 0., 0., 0., 0., 0., 0.]),\n",
       " 'rank_test_score': array([9, 8, 7, 6, 5, 4, 3, 2, 1], dtype=int32)}"
      ]
     },
     "execution_count": 198,
     "metadata": {},
     "output_type": "execute_result"
    }
   ],
   "source": [
    "clf.cv_results_"
   ]
  },
  {
   "cell_type": "code",
   "execution_count": 199,
   "id": "c555a2b3",
   "metadata": {},
   "outputs": [
    {
     "data": {
      "text/plain": [
       "Ridge(alpha=1000)"
      ]
     },
     "execution_count": 199,
     "metadata": {},
     "output_type": "execute_result"
    }
   ],
   "source": [
    "#fitting the model with the best params to the training data\n",
    "lr2 = Ridge(alpha = 1000)\n",
    "lr2.fit(X_train_n2, y_train)"
   ]
  },
  {
   "cell_type": "code",
   "execution_count": 200,
   "id": "36548b40",
   "metadata": {},
   "outputs": [],
   "source": [
    "train_rmse = mean_squared_error(lr2.predict(X_train_n2), y_train, squared = False)\n",
    "val_rmse = mean_squared_error(lr2.predict(X_val_n2), y_val, squared = False)\n",
    "summary = summary.append({\"Classifier\":\"Linear Regression\", \"Training set RMSE\":train_rmse, \"Validation set RMSE\": val_rmse}, ignore_index = True)"
   ]
  },
  {
   "cell_type": "code",
   "execution_count": 201,
   "id": "cf496a38",
   "metadata": {},
   "outputs": [
    {
     "data": {
      "text/html": [
       "<div>\n",
       "<style scoped>\n",
       "    .dataframe tbody tr th:only-of-type {\n",
       "        vertical-align: middle;\n",
       "    }\n",
       "\n",
       "    .dataframe tbody tr th {\n",
       "        vertical-align: top;\n",
       "    }\n",
       "\n",
       "    .dataframe thead th {\n",
       "        text-align: right;\n",
       "    }\n",
       "</style>\n",
       "<table border=\"1\" class=\"dataframe\">\n",
       "  <thead>\n",
       "    <tr style=\"text-align: right;\">\n",
       "      <th></th>\n",
       "      <th>Classifier</th>\n",
       "      <th>Training set RMSE</th>\n",
       "      <th>Validation set RMSE</th>\n",
       "    </tr>\n",
       "  </thead>\n",
       "  <tbody>\n",
       "    <tr>\n",
       "      <th>0</th>\n",
       "      <td>Null Model</td>\n",
       "      <td>17.710000</td>\n",
       "      <td>17.480000</td>\n",
       "    </tr>\n",
       "    <tr>\n",
       "      <th>1</th>\n",
       "      <td>Linear Regression</td>\n",
       "      <td>16.511983</td>\n",
       "      <td>16.594863</td>\n",
       "    </tr>\n",
       "  </tbody>\n",
       "</table>\n",
       "</div>"
      ],
      "text/plain": [
       "          Classifier  Training set RMSE  Validation set RMSE\n",
       "0         Null Model          17.710000            17.480000\n",
       "1  Linear Regression          16.511983            16.594863"
      ]
     },
     "execution_count": 201,
     "metadata": {},
     "output_type": "execute_result"
    }
   ],
   "source": [
    "summary"
   ]
  },
  {
   "cell_type": "markdown",
   "id": "bf2a9202",
   "metadata": {},
   "source": [
    "## 2.2 Tree based models "
   ]
  },
  {
   "cell_type": "markdown",
   "id": "8b67e3ca",
   "metadata": {},
   "source": [
    "### 2.2.1 Decision Trees "
   ]
  },
  {
   "cell_type": "code",
   "execution_count": 202,
   "id": "346334fe",
   "metadata": {},
   "outputs": [],
   "source": [
    "#creating model object\n",
    "dt = DecisionTreeRegressor()"
   ]
  },
  {
   "cell_type": "code",
   "execution_count": 203,
   "id": "bad26e5c",
   "metadata": {},
   "outputs": [],
   "source": [
    "parameters = {'max_depth':[1,2,5,10,15], 'ccp_alpha':[0,0.01,0.1,1]}"
   ]
  },
  {
   "cell_type": "code",
   "execution_count": 204,
   "id": "17234fd1",
   "metadata": {},
   "outputs": [
    {
     "data": {
      "text/plain": [
       "GridSearchCV(cv=PredefinedSplit(test_fold=array([-1, -1, ...,  0,  0])),\n",
       "             estimator=DecisionTreeRegressor(),\n",
       "             param_grid={'ccp_alpha': [0, 0.01, 0.1, 1],\n",
       "                         'max_depth': [1, 2, 5, 10, 15]},\n",
       "             scoring='neg_root_mean_squared_error')"
      ]
     },
     "execution_count": 204,
     "metadata": {},
     "output_type": "execute_result"
    }
   ],
   "source": [
    "clf = GridSearchCV(dt, parameters, scoring = 'neg_root_mean_squared_error', cv = pds)\n",
    "clf.fit(X_n2, y)"
   ]
  },
  {
   "cell_type": "code",
   "execution_count": 205,
   "id": "6fedb92c",
   "metadata": {},
   "outputs": [
    {
     "data": {
      "text/plain": [
       "{'ccp_alpha': 0.1, 'max_depth': 10}"
      ]
     },
     "execution_count": 205,
     "metadata": {},
     "output_type": "execute_result"
    }
   ],
   "source": [
    "clf.best_params_"
   ]
  },
  {
   "cell_type": "code",
   "execution_count": 206,
   "id": "00a9b14a",
   "metadata": {},
   "outputs": [
    {
     "data": {
      "text/plain": [
       "{'mean_fit_time': array([0.23869562, 0.34796762, 0.82196426, 1.61415243, 2.29768014,\n",
       "        0.18328381, 0.34674525, 0.8271246 , 1.62438512, 2.84315753,\n",
       "        0.18451405, 0.34500051, 0.84027267, 1.60653257, 2.8530798 ,\n",
       "        0.18174171, 0.34797931, 0.84702563, 1.6474061 , 2.89053535]),\n",
       " 'std_fit_time': array([0., 0., 0., 0., 0., 0., 0., 0., 0., 0., 0., 0., 0., 0., 0., 0., 0.,\n",
       "        0., 0., 0.]),\n",
       " 'mean_score_time': array([0.00283265, 0.00275278, 0.00287628, 0.00289917, 0.00304127,\n",
       "        0.0026238 , 0.00273561, 0.00275588, 0.00280476, 0.00305772,\n",
       "        0.00280762, 0.00263286, 0.00282955, 0.00268173, 0.00272608,\n",
       "        0.00271773, 0.00281048, 0.00272083, 0.00275755, 0.00291252]),\n",
       " 'std_score_time': array([0., 0., 0., 0., 0., 0., 0., 0., 0., 0., 0., 0., 0., 0., 0., 0., 0.,\n",
       "        0., 0., 0.]),\n",
       " 'param_ccp_alpha': masked_array(data=[0, 0, 0, 0, 0, 0.01, 0.01, 0.01, 0.01, 0.01, 0.1, 0.1,\n",
       "                    0.1, 0.1, 0.1, 1, 1, 1, 1, 1],\n",
       "              mask=[False, False, False, False, False, False, False, False,\n",
       "                    False, False, False, False, False, False, False, False,\n",
       "                    False, False, False, False],\n",
       "        fill_value='?',\n",
       "             dtype=object),\n",
       " 'param_max_depth': masked_array(data=[1, 2, 5, 10, 15, 1, 2, 5, 10, 15, 1, 2, 5, 10, 15, 1,\n",
       "                    2, 5, 10, 15],\n",
       "              mask=[False, False, False, False, False, False, False, False,\n",
       "                    False, False, False, False, False, False, False, False,\n",
       "                    False, False, False, False],\n",
       "        fill_value='?',\n",
       "             dtype=object),\n",
       " 'params': [{'ccp_alpha': 0, 'max_depth': 1},\n",
       "  {'ccp_alpha': 0, 'max_depth': 2},\n",
       "  {'ccp_alpha': 0, 'max_depth': 5},\n",
       "  {'ccp_alpha': 0, 'max_depth': 10},\n",
       "  {'ccp_alpha': 0, 'max_depth': 15},\n",
       "  {'ccp_alpha': 0.01, 'max_depth': 1},\n",
       "  {'ccp_alpha': 0.01, 'max_depth': 2},\n",
       "  {'ccp_alpha': 0.01, 'max_depth': 5},\n",
       "  {'ccp_alpha': 0.01, 'max_depth': 10},\n",
       "  {'ccp_alpha': 0.01, 'max_depth': 15},\n",
       "  {'ccp_alpha': 0.1, 'max_depth': 1},\n",
       "  {'ccp_alpha': 0.1, 'max_depth': 2},\n",
       "  {'ccp_alpha': 0.1, 'max_depth': 5},\n",
       "  {'ccp_alpha': 0.1, 'max_depth': 10},\n",
       "  {'ccp_alpha': 0.1, 'max_depth': 15},\n",
       "  {'ccp_alpha': 1, 'max_depth': 1},\n",
       "  {'ccp_alpha': 1, 'max_depth': 2},\n",
       "  {'ccp_alpha': 1, 'max_depth': 5},\n",
       "  {'ccp_alpha': 1, 'max_depth': 10},\n",
       "  {'ccp_alpha': 1, 'max_depth': 15}],\n",
       " 'split0_test_score': array([-17.15320867, -16.73666679, -16.28679811, -16.67738609,\n",
       "        -18.27496814, -17.15320867, -16.73666679, -16.28679811,\n",
       "        -16.29265802, -17.23472602, -17.15320867, -16.73666679,\n",
       "        -16.28403014, -16.05542816, -16.25235954, -17.15320867,\n",
       "        -16.73666679, -16.11303187, -16.05599738, -16.05599738]),\n",
       " 'mean_test_score': array([-17.15320867, -16.73666679, -16.28679811, -16.67738609,\n",
       "        -18.27496814, -17.15320867, -16.73666679, -16.28679811,\n",
       "        -16.29265802, -17.23472602, -17.15320867, -16.73666679,\n",
       "        -16.28403014, -16.05542816, -16.25235954, -17.15320867,\n",
       "        -16.73666679, -16.11303187, -16.05599738, -16.05599738]),\n",
       " 'std_test_score': array([0., 0., 0., 0., 0., 0., 0., 0., 0., 0., 0., 0., 0., 0., 0., 0., 0.,\n",
       "        0., 0., 0.]),\n",
       " 'rank_test_score': array([15, 11,  7, 10, 20, 15, 11,  7,  9, 19, 15, 11,  6,  1,  5, 15, 11,\n",
       "         4,  2,  2], dtype=int32)}"
      ]
     },
     "execution_count": 206,
     "metadata": {},
     "output_type": "execute_result"
    }
   ],
   "source": [
    "clf.cv_results_"
   ]
  },
  {
   "cell_type": "code",
   "execution_count": 207,
   "id": "fae0781d",
   "metadata": {},
   "outputs": [
    {
     "data": {
      "text/plain": [
       "DecisionTreeRegressor(ccp_alpha=0.1, max_depth=10, random_state=24)"
      ]
     },
     "execution_count": 207,
     "metadata": {},
     "output_type": "execute_result"
    }
   ],
   "source": [
    "dt = DecisionTreeRegressor(ccp_alpha = 0.1, max_depth = 10, random_state = 24)\n",
    "dt.fit(X_train_n2, y_train)"
   ]
  },
  {
   "cell_type": "code",
   "execution_count": 208,
   "id": "e65e76e3",
   "metadata": {},
   "outputs": [],
   "source": [
    "train_rmse = mean_squared_error(dt.predict(X_train_n2), y_train, squared = False)\n",
    "val_rmse = mean_squared_error(dt.predict(X_val_n2), y_val, squared = False)\n",
    "summary = summary.append({\"Classifier\":\"Decision Tree\", \"Training set RMSE\":train_rmse, \"Validation set RMSE\": val_rmse}, ignore_index = True)"
   ]
  },
  {
   "cell_type": "code",
   "execution_count": 209,
   "id": "7b21c089",
   "metadata": {},
   "outputs": [
    {
     "data": {
      "text/html": [
       "<div>\n",
       "<style scoped>\n",
       "    .dataframe tbody tr th:only-of-type {\n",
       "        vertical-align: middle;\n",
       "    }\n",
       "\n",
       "    .dataframe tbody tr th {\n",
       "        vertical-align: top;\n",
       "    }\n",
       "\n",
       "    .dataframe thead th {\n",
       "        text-align: right;\n",
       "    }\n",
       "</style>\n",
       "<table border=\"1\" class=\"dataframe\">\n",
       "  <thead>\n",
       "    <tr style=\"text-align: right;\">\n",
       "      <th></th>\n",
       "      <th>Classifier</th>\n",
       "      <th>Training set RMSE</th>\n",
       "      <th>Validation set RMSE</th>\n",
       "    </tr>\n",
       "  </thead>\n",
       "  <tbody>\n",
       "    <tr>\n",
       "      <th>0</th>\n",
       "      <td>Null Model</td>\n",
       "      <td>17.710000</td>\n",
       "      <td>17.480000</td>\n",
       "    </tr>\n",
       "    <tr>\n",
       "      <th>1</th>\n",
       "      <td>Linear Regression</td>\n",
       "      <td>16.511983</td>\n",
       "      <td>16.594863</td>\n",
       "    </tr>\n",
       "    <tr>\n",
       "      <th>2</th>\n",
       "      <td>Decision Tree</td>\n",
       "      <td>15.187778</td>\n",
       "      <td>16.055428</td>\n",
       "    </tr>\n",
       "  </tbody>\n",
       "</table>\n",
       "</div>"
      ],
      "text/plain": [
       "          Classifier  Training set RMSE  Validation set RMSE\n",
       "0         Null Model          17.710000            17.480000\n",
       "1  Linear Regression          16.511983            16.594863\n",
       "2      Decision Tree          15.187778            16.055428"
      ]
     },
     "execution_count": 209,
     "metadata": {},
     "output_type": "execute_result"
    }
   ],
   "source": [
    "summary"
   ]
  },
  {
   "cell_type": "markdown",
   "id": "a308b725",
   "metadata": {},
   "source": [
    "### 2.2.2 Random Forest "
   ]
  },
  {
   "cell_type": "code",
   "execution_count": 210,
   "id": "9f05b5ba",
   "metadata": {},
   "outputs": [],
   "source": [
    "#creating model object\n",
    "rf = RandomForestRegressor(n_estimators = 10)"
   ]
  },
  {
   "cell_type": "code",
   "execution_count": 233,
   "id": "7afbbab5",
   "metadata": {},
   "outputs": [],
   "source": [
    "parameters = {'max_depth':[5,10,15,20], 'ccp_alpha':[0,0.01,0.1,0.5], \"max_features\" : [None, \"sqrt\"]}"
   ]
  },
  {
   "cell_type": "code",
   "execution_count": 234,
   "id": "3c6944f1",
   "metadata": {},
   "outputs": [
    {
     "data": {
      "text/plain": [
       "GridSearchCV(cv=PredefinedSplit(test_fold=array([-1, -1, ...,  0,  0])),\n",
       "             estimator=RandomForestRegressor(ccp_alpha=0.1, max_depth=15,\n",
       "                                             max_features=None,\n",
       "                                             n_estimators=10),\n",
       "             param_grid={'ccp_alpha': [0, 0.01, 0.1, 0.5],\n",
       "                         'max_depth': [5, 10, 15, 20],\n",
       "                         'max_features': [None, 'sqrt']},\n",
       "             scoring='neg_root_mean_squared_error')"
      ]
     },
     "execution_count": 234,
     "metadata": {},
     "output_type": "execute_result"
    }
   ],
   "source": [
    "clf = GridSearchCV(rf, parameters, scoring = 'neg_root_mean_squared_error', cv = pds)\n",
    "clf.fit(X_n2, y)"
   ]
  },
  {
   "cell_type": "code",
   "execution_count": 235,
   "id": "aa02b14f",
   "metadata": {},
   "outputs": [
    {
     "data": {
      "text/plain": [
       "{'ccp_alpha': 0.1, 'max_depth': 10, 'max_features': None}"
      ]
     },
     "execution_count": 235,
     "metadata": {},
     "output_type": "execute_result"
    }
   ],
   "source": [
    "clf.best_params_"
   ]
  },
  {
   "cell_type": "code",
   "execution_count": 236,
   "id": "3fb29e33",
   "metadata": {},
   "outputs": [
    {
     "data": {
      "text/plain": [
       "{'mean_fit_time': array([ 5.54830766,  1.82156968, 10.48288274,  3.36428928, 14.82553792,\n",
       "         4.62366796, 18.47700381,  6.06202602,  5.63266706,  1.83343291,\n",
       "        10.64486074,  3.51411843, 19.11041307,  8.0984745 , 90.46976542,\n",
       "        61.75648737,  5.49140453,  1.76005411, 10.56355262,  3.44197345,\n",
       "        19.52697444,  7.95418239, 89.54238009, 65.12784386,  5.60002589,\n",
       "         1.94588256, 10.68373704,  3.34768581, 19.39745259,  8.28825021,\n",
       "        92.79948664, 63.37721848]),\n",
       " 'std_fit_time': array([0., 0., 0., 0., 0., 0., 0., 0., 0., 0., 0., 0., 0., 0., 0., 0., 0.,\n",
       "        0., 0., 0., 0., 0., 0., 0., 0., 0., 0., 0., 0., 0., 0., 0.]),\n",
       " 'mean_score_time': array([0.00483608, 0.00465536, 0.00529027, 0.00525451, 0.0066011 ,\n",
       "        0.00654936, 0.00846434, 0.00834846, 0.00458074, 0.00464201,\n",
       "        0.00513601, 0.00506759, 0.00569105, 0.00572157, 0.0063374 ,\n",
       "        0.00592422, 0.00454378, 0.00459599, 0.00499511, 0.00501251,\n",
       "        0.00470972, 0.00505447, 0.00474524, 0.00473475, 0.00460815,\n",
       "        0.00456381, 0.00462103, 0.00462389, 0.00450063, 0.00474572,\n",
       "        0.00446534, 0.00459552]),\n",
       " 'std_score_time': array([0., 0., 0., 0., 0., 0., 0., 0., 0., 0., 0., 0., 0., 0., 0., 0., 0.,\n",
       "        0., 0., 0., 0., 0., 0., 0., 0., 0., 0., 0., 0., 0., 0., 0.]),\n",
       " 'param_ccp_alpha': masked_array(data=[0, 0, 0, 0, 0, 0, 0, 0, 0.01, 0.01, 0.01, 0.01, 0.01,\n",
       "                    0.01, 0.01, 0.01, 0.1, 0.1, 0.1, 0.1, 0.1, 0.1, 0.1,\n",
       "                    0.1, 0.5, 0.5, 0.5, 0.5, 0.5, 0.5, 0.5, 0.5],\n",
       "              mask=[False, False, False, False, False, False, False, False,\n",
       "                    False, False, False, False, False, False, False, False,\n",
       "                    False, False, False, False, False, False, False, False,\n",
       "                    False, False, False, False, False, False, False, False],\n",
       "        fill_value='?',\n",
       "             dtype=object),\n",
       " 'param_max_depth': masked_array(data=[5, 5, 10, 10, 15, 15, 20, 20, 5, 5, 10, 10, 15, 15, 20,\n",
       "                    20, 5, 5, 10, 10, 15, 15, 20, 20, 5, 5, 10, 10, 15, 15,\n",
       "                    20, 20],\n",
       "              mask=[False, False, False, False, False, False, False, False,\n",
       "                    False, False, False, False, False, False, False, False,\n",
       "                    False, False, False, False, False, False, False, False,\n",
       "                    False, False, False, False, False, False, False, False],\n",
       "        fill_value='?',\n",
       "             dtype=object),\n",
       " 'param_max_features': masked_array(data=[None, 'sqrt', None, 'sqrt', None, 'sqrt', None, 'sqrt',\n",
       "                    None, 'sqrt', None, 'sqrt', None, 'sqrt', None, 'sqrt',\n",
       "                    None, 'sqrt', None, 'sqrt', None, 'sqrt', None, 'sqrt',\n",
       "                    None, 'sqrt', None, 'sqrt', None, 'sqrt', None, 'sqrt'],\n",
       "              mask=[False, False, False, False, False, False, False, False,\n",
       "                    False, False, False, False, False, False, False, False,\n",
       "                    False, False, False, False, False, False, False, False,\n",
       "                    False, False, False, False, False, False, False, False],\n",
       "        fill_value='?',\n",
       "             dtype=object),\n",
       " 'params': [{'ccp_alpha': 0, 'max_depth': 5, 'max_features': None},\n",
       "  {'ccp_alpha': 0, 'max_depth': 5, 'max_features': 'sqrt'},\n",
       "  {'ccp_alpha': 0, 'max_depth': 10, 'max_features': None},\n",
       "  {'ccp_alpha': 0, 'max_depth': 10, 'max_features': 'sqrt'},\n",
       "  {'ccp_alpha': 0, 'max_depth': 15, 'max_features': None},\n",
       "  {'ccp_alpha': 0, 'max_depth': 15, 'max_features': 'sqrt'},\n",
       "  {'ccp_alpha': 0, 'max_depth': 20, 'max_features': None},\n",
       "  {'ccp_alpha': 0, 'max_depth': 20, 'max_features': 'sqrt'},\n",
       "  {'ccp_alpha': 0.01, 'max_depth': 5, 'max_features': None},\n",
       "  {'ccp_alpha': 0.01, 'max_depth': 5, 'max_features': 'sqrt'},\n",
       "  {'ccp_alpha': 0.01, 'max_depth': 10, 'max_features': None},\n",
       "  {'ccp_alpha': 0.01, 'max_depth': 10, 'max_features': 'sqrt'},\n",
       "  {'ccp_alpha': 0.01, 'max_depth': 15, 'max_features': None},\n",
       "  {'ccp_alpha': 0.01, 'max_depth': 15, 'max_features': 'sqrt'},\n",
       "  {'ccp_alpha': 0.01, 'max_depth': 20, 'max_features': None},\n",
       "  {'ccp_alpha': 0.01, 'max_depth': 20, 'max_features': 'sqrt'},\n",
       "  {'ccp_alpha': 0.1, 'max_depth': 5, 'max_features': None},\n",
       "  {'ccp_alpha': 0.1, 'max_depth': 5, 'max_features': 'sqrt'},\n",
       "  {'ccp_alpha': 0.1, 'max_depth': 10, 'max_features': None},\n",
       "  {'ccp_alpha': 0.1, 'max_depth': 10, 'max_features': 'sqrt'},\n",
       "  {'ccp_alpha': 0.1, 'max_depth': 15, 'max_features': None},\n",
       "  {'ccp_alpha': 0.1, 'max_depth': 15, 'max_features': 'sqrt'},\n",
       "  {'ccp_alpha': 0.1, 'max_depth': 20, 'max_features': None},\n",
       "  {'ccp_alpha': 0.1, 'max_depth': 20, 'max_features': 'sqrt'},\n",
       "  {'ccp_alpha': 0.5, 'max_depth': 5, 'max_features': None},\n",
       "  {'ccp_alpha': 0.5, 'max_depth': 5, 'max_features': 'sqrt'},\n",
       "  {'ccp_alpha': 0.5, 'max_depth': 10, 'max_features': None},\n",
       "  {'ccp_alpha': 0.5, 'max_depth': 10, 'max_features': 'sqrt'},\n",
       "  {'ccp_alpha': 0.5, 'max_depth': 15, 'max_features': None},\n",
       "  {'ccp_alpha': 0.5, 'max_depth': 15, 'max_features': 'sqrt'},\n",
       "  {'ccp_alpha': 0.5, 'max_depth': 20, 'max_features': None},\n",
       "  {'ccp_alpha': 0.5, 'max_depth': 20, 'max_features': 'sqrt'}],\n",
       " 'split0_test_score': array([-16.08726251, -16.18559434, -16.14565164, -15.88630085,\n",
       "        -16.53961932, -16.29330963, -17.10392573, -16.95945591,\n",
       "        -16.116062  , -16.19219309, -16.14004263, -16.259161  ,\n",
       "        -16.29808436, -16.06109085, -16.37323872, -16.4145627 ,\n",
       "        -16.12316065, -16.16043092, -15.79502371, -15.88941393,\n",
       "        -15.79915638, -15.8871907 , -15.85232199, -15.84643796,\n",
       "        -16.10007822, -16.52533491, -15.93491167, -15.99063515,\n",
       "        -15.91106336, -16.12260372, -15.93089838, -15.80894207]),\n",
       " 'mean_test_score': array([-16.08726251, -16.18559434, -16.14565164, -15.88630085,\n",
       "        -16.53961932, -16.29330963, -17.10392573, -16.95945591,\n",
       "        -16.116062  , -16.19219309, -16.14004263, -16.259161  ,\n",
       "        -16.29808436, -16.06109085, -16.37323872, -16.4145627 ,\n",
       "        -16.12316065, -16.16043092, -15.79502371, -15.88941393,\n",
       "        -15.79915638, -15.8871907 , -15.85232199, -15.84643796,\n",
       "        -16.10007822, -16.52533491, -15.93491167, -15.99063515,\n",
       "        -15.91106336, -16.12260372, -15.93089838, -15.80894207]),\n",
       " 'std_test_score': array([0., 0., 0., 0., 0., 0., 0., 0., 0., 0., 0., 0., 0., 0., 0., 0., 0.,\n",
       "        0., 0., 0., 0., 0., 0., 0., 0., 0., 0., 0., 0., 0., 0., 0.]),\n",
       " 'rank_test_score': array([14, 22, 20,  6, 30, 25, 32, 31, 16, 23, 19, 24, 26, 13, 27, 28, 18,\n",
       "        21,  1,  8,  2,  7,  5,  4, 15, 29, 11, 12,  9, 17, 10,  3],\n",
       "       dtype=int32)}"
      ]
     },
     "execution_count": 236,
     "metadata": {},
     "output_type": "execute_result"
    }
   ],
   "source": [
    "clf.cv_results_"
   ]
  },
  {
   "cell_type": "code",
   "execution_count": 237,
   "id": "a98ad4fb",
   "metadata": {},
   "outputs": [
    {
     "data": {
      "text/plain": [
       "RandomForestRegressor(ccp_alpha=0.1, max_depth=10, max_features=None,\n",
       "                      n_estimators=10)"
      ]
     },
     "execution_count": 237,
     "metadata": {},
     "output_type": "execute_result"
    }
   ],
   "source": [
    "rf  = RandomForestRegressor(n_estimators = 10,ccp_alpha = 0.1, max_depth = 10, max_features = None)\n",
    "rf.fit(X_train_n2, y_train)"
   ]
  },
  {
   "cell_type": "code",
   "execution_count": 238,
   "id": "71e6ee49",
   "metadata": {},
   "outputs": [],
   "source": [
    "train_rmse = mean_squared_error(rf.predict(X_train_n2), y_train, squared = False)\n",
    "val_rmse = mean_squared_error(rf.predict(X_val_n2), y_val, squared = False)\n",
    "summary = summary.append({\"Classifier\":\"Random Forest\", \"Training set RMSE\":train_rmse, \"Validation set RMSE\": val_rmse}, ignore_index = True)"
   ]
  },
  {
   "cell_type": "code",
   "execution_count": 246,
   "id": "0ec73b21",
   "metadata": {},
   "outputs": [
    {
     "data": {
      "text/html": [
       "<div>\n",
       "<style scoped>\n",
       "    .dataframe tbody tr th:only-of-type {\n",
       "        vertical-align: middle;\n",
       "    }\n",
       "\n",
       "    .dataframe tbody tr th {\n",
       "        vertical-align: top;\n",
       "    }\n",
       "\n",
       "    .dataframe thead th {\n",
       "        text-align: right;\n",
       "    }\n",
       "</style>\n",
       "<table border=\"1\" class=\"dataframe\">\n",
       "  <thead>\n",
       "    <tr style=\"text-align: right;\">\n",
       "      <th></th>\n",
       "      <th>Classifier</th>\n",
       "      <th>Training set RMSE</th>\n",
       "      <th>Validation set RMSE</th>\n",
       "    </tr>\n",
       "  </thead>\n",
       "  <tbody>\n",
       "    <tr>\n",
       "      <th>0</th>\n",
       "      <td>Null Model</td>\n",
       "      <td>17.710000</td>\n",
       "      <td>17.480000</td>\n",
       "    </tr>\n",
       "    <tr>\n",
       "      <th>1</th>\n",
       "      <td>Linear Regression</td>\n",
       "      <td>16.511983</td>\n",
       "      <td>16.594863</td>\n",
       "    </tr>\n",
       "    <tr>\n",
       "      <th>2</th>\n",
       "      <td>Decision Tree</td>\n",
       "      <td>15.187778</td>\n",
       "      <td>16.055428</td>\n",
       "    </tr>\n",
       "    <tr>\n",
       "      <th>3</th>\n",
       "      <td>Random Forest</td>\n",
       "      <td>15.064200</td>\n",
       "      <td>15.797037</td>\n",
       "    </tr>\n",
       "  </tbody>\n",
       "</table>\n",
       "</div>"
      ],
      "text/plain": [
       "          Classifier  Training set RMSE  Validation set RMSE\n",
       "0         Null Model          17.710000            17.480000\n",
       "1  Linear Regression          16.511983            16.594863\n",
       "2      Decision Tree          15.187778            16.055428\n",
       "3      Random Forest          15.064200            15.797037"
      ]
     },
     "execution_count": 246,
     "metadata": {},
     "output_type": "execute_result"
    }
   ],
   "source": [
    "summary"
   ]
  },
  {
   "cell_type": "markdown",
   "id": "1c522bdc",
   "metadata": {},
   "source": [
    "### 2.2.3 XGBoost"
   ]
  },
  {
   "cell_type": "code",
   "execution_count": 247,
   "id": "d02fcefe",
   "metadata": {},
   "outputs": [],
   "source": [
    "#saving data as a cvs file\n",
    "train_set = pd.concat([y_train, X_train_n2], axis = 1)\n",
    "validation_set = pd.concat([y_val, X_val_n2], axis = 1)\n",
    "test_set = pd.concat([y_test, X_test_n2], axis = 1)\n",
    "train_set.to_csv(\"Spotify_Data/train_set.csv\", header = False, index = False)\n",
    "X_train_n2.to_csv(\"Spotify_Data/X_train_n2.csv\", header = False, index = False)\n",
    "validation_set.to_csv(\"Spotify_Data/validation_set.csv\", header = False, index = False)\n",
    "X_val_n2.to_csv(\"Spotify_Data/X_val_n2.csv\", header = False, index = False)\n",
    "test_set.to_csv(\"Spotify_Data/test_set.csv\", header = False, index = False)"
   ]
  },
  {
   "cell_type": "code",
   "execution_count": 248,
   "id": "99c614ff",
   "metadata": {},
   "outputs": [],
   "source": [
    "#creating a session\n",
    "#passing xgboost container to run\n",
    "import sagemaker\n",
    "from sagemaker import get_execution_role\n",
    "\n",
    "session = sagemaker.Session() \n",
    "\n",
    "role = get_execution_role()\n",
    "bucket = session.default_bucket()\n",
    "xgboost_container = sagemaker.image_uris.retrieve(\"xgboost\", session.boto_region_name, \"1.2-2\")\n"
   ]
  },
  {
   "cell_type": "code",
   "execution_count": 249,
   "id": "a79f549a",
   "metadata": {},
   "outputs": [],
   "source": [
    "# data dir to retrieve saved features data\n",
    "data_dir = 'Spotify_Data'\n",
    "\n",
    "# S3 directory prefix\n",
    "prefix = 'Capstone_Project'\n",
    "\n",
    "# upload all data to S3\n",
    "test_location = session.upload_data(os.path.join(data_dir, 'test_set.csv'), key_prefix=prefix)\n",
    "val_location = session.upload_data(os.path.join(data_dir, 'validation_set.csv'), key_prefix=prefix)\n",
    "val_location2 = session.upload_data(os.path.join(data_dir, 'X_val_n2.csv'), key_prefix=prefix)\n",
    "train_location = session.upload_data(os.path.join(data_dir, 'train_set.csv'), key_prefix=prefix)\n",
    "train_location2 = session.upload_data(os.path.join(data_dir, 'X_train_n2.csv'), key_prefix=prefix)"
   ]
  },
  {
   "cell_type": "code",
   "execution_count": 250,
   "id": "8ae944da",
   "metadata": {},
   "outputs": [
    {
     "name": "stderr",
     "output_type": "stream",
     "text": [
      "train_instance_count has been renamed in sagemaker>=2.\n",
      "See: https://sagemaker.readthedocs.io/en/stable/v2.html for details.\n",
      "train_instance_type has been renamed in sagemaker>=2.\n",
      "See: https://sagemaker.readthedocs.io/en/stable/v2.html for details.\n"
     ]
    }
   ],
   "source": [
    "#creating model object\n",
    "xgb = sagemaker.estimator.Estimator(xgboost_container, # The location of the container we wish to use\n",
    "                                    role,                                    # What is our current IAM Role\n",
    "                                    train_instance_count=1,                  # How many compute instances\n",
    "                                    train_instance_type='ml.m4.xlarge',      # What kind of compute instances\n",
    "                                    output_path='s3://{}/{}/output'.format(session.default_bucket(), prefix),\n",
    "                                    sagemaker_session=session)\n",
    "\n",
    "xgb.set_hyperparameters(max_depth=5,\n",
    "                        eta=0.2,\n",
    "                        gamma=4,\n",
    "                        min_child_weight=6,\n",
    "                        subsample=0.8,\n",
    "                        objective='reg:squarederror',\n",
    "                        early_stopping_rounds=10,\n",
    "                        num_round=50)"
   ]
  },
  {
   "cell_type": "code",
   "execution_count": 251,
   "id": "a204ee6c",
   "metadata": {},
   "outputs": [],
   "source": [
    "from sagemaker.inputs import TrainingInput"
   ]
  },
  {
   "cell_type": "code",
   "execution_count": 252,
   "id": "abfe0682",
   "metadata": {},
   "outputs": [],
   "source": [
    "s3_input_train = TrainingInput(s3_data=train_location, content_type='csv')\n",
    "s3_input_validation = TrainingInput(s3_data=val_location, content_type='csv')"
   ]
  },
  {
   "cell_type": "code",
   "execution_count": 253,
   "id": "8b7f1c3a",
   "metadata": {},
   "outputs": [],
   "source": [
    "from sagemaker.tuner import IntegerParameter, ContinuousParameter, HyperparameterTuner\n",
    "\n",
    "# Creating hyperparameter tuner object\n",
    "\n",
    "xgb_hyperparameter_tuner = HyperparameterTuner(estimator = xgb, # The estimator object to use as the basis for the training jobs.\n",
    "                                               objective_metric_name = 'validation:rmse', # The metric used to compare trained models.\n",
    "                                               objective_type = 'Minimize', # Whether we wish to minimize or maximize the metric.\n",
    "                                               max_jobs = 6, # The total number of models to train\n",
    "                                               max_parallel_jobs = 3, # The number of models to train in parallel\n",
    "                                               hyperparameter_ranges = {\n",
    "                                                    'max_depth': IntegerParameter(5, 10),\n",
    "                                                    'eta'      : ContinuousParameter(0.05, 0.5),\n",
    "                                                    'min_child_weight': IntegerParameter(2, 8),\n",
    "                                                    'subsample': ContinuousParameter(0.5, 0.9),\n",
    "                                                    'gamma': ContinuousParameter(0, 10),\n",
    "                                               })"
   ]
  },
  {
   "cell_type": "code",
   "execution_count": 254,
   "id": "70a300d9",
   "metadata": {},
   "outputs": [
    {
     "name": "stdout",
     "output_type": "stream",
     "text": [
      ".........................................................................................................................!\n"
     ]
    }
   ],
   "source": [
    "xgb_hyperparameter_tuner.fit({'train': s3_input_train, 'validation': s3_input_validation})"
   ]
  },
  {
   "cell_type": "code",
   "execution_count": 255,
   "id": "ff11fa29",
   "metadata": {},
   "outputs": [
    {
     "data": {
      "text/plain": [
       "<sagemaker.tuner.HyperparameterTuner at 0x7fbdc45da898>"
      ]
     },
     "execution_count": 255,
     "metadata": {},
     "output_type": "execute_result"
    }
   ],
   "source": [
    "xgb_hyperparameter_tuner"
   ]
  },
  {
   "cell_type": "code",
   "execution_count": 256,
   "id": "c6aac58d",
   "metadata": {},
   "outputs": [
    {
     "name": "stdout",
     "output_type": "stream",
     "text": [
      "\n",
      "2021-08-15 14:51:10 Starting - Preparing the instances for training\n",
      "2021-08-15 14:51:10 Downloading - Downloading input data\n",
      "2021-08-15 14:51:10 Training - Training image download completed. Training in progress.\n",
      "2021-08-15 14:51:10 Uploading - Uploading generated training model\n",
      "2021-08-15 14:51:10 Completed - Training job completed\n"
     ]
    }
   ],
   "source": [
    "#creating model object with the best hyper parameters\n",
    "xgb_attached = sagemaker.estimator.Estimator.attach(xgb_hyperparameter_tuner.best_training_job())"
   ]
  },
  {
   "cell_type": "code",
   "execution_count": 257,
   "id": "d5a77d95",
   "metadata": {},
   "outputs": [],
   "source": [
    "#batch process training and validation jobs\n",
    "xgb_transformer = xgb_attached.transformer(instance_count = 1, instance_type = 'ml.m4.xlarge')"
   ]
  },
  {
   "cell_type": "code",
   "execution_count": 258,
   "id": "a89773b6",
   "metadata": {},
   "outputs": [
    {
     "name": "stdout",
     "output_type": "stream",
     "text": [
      "...................................\u001b[34m[2021-08-15:14:58:20:INFO] No GPUs detected (normal if no gpus installed)\u001b[0m\n",
      "\u001b[34m[2021-08-15:14:58:20:INFO] No GPUs detected (normal if no gpus installed)\u001b[0m\n",
      "\u001b[34m[2021-08-15:14:58:20:INFO] nginx config: \u001b[0m\n",
      "\u001b[34mworker_processes auto;\u001b[0m\n",
      "\u001b[34mdaemon off;\u001b[0m\n",
      "\u001b[34mpid /tmp/nginx.pid;\u001b[0m\n",
      "\u001b[34merror_log  /dev/stderr;\n",
      "\u001b[0m\n",
      "\u001b[34mworker_rlimit_nofile 4096;\n",
      "\u001b[0m\n",
      "\u001b[34mevents {\n",
      "  worker_connections 2048;\u001b[0m\n",
      "\u001b[34m}\n",
      "\u001b[0m\n",
      "\u001b[34mhttp {\n",
      "  include /etc/nginx/mime.types;\n",
      "  default_type application/octet-stream;\n",
      "  access_log /dev/stdout combined;\n",
      "\n",
      "  upstream gunicorn {\n",
      "    server unix:/tmp/gunicorn.sock;\n",
      "  }\n",
      "\n",
      "  server {\n",
      "    listen 8080 deferred;\n",
      "    client_max_body_size 0;\n",
      "\n",
      "    keepalive_timeout 3;\n",
      "\n",
      "    location ~ ^/(ping|invocations|execution-parameters) {\n",
      "      proxy_set_header X-Forwarded-For $proxy_add_x_forwarded_for;\n",
      "      proxy_set_header Host $http_host;\n",
      "      proxy_redirect off;\n",
      "      proxy_read_timeout 60s;\n",
      "      proxy_pass http://gunicorn;\n",
      "    }\n",
      "\n",
      "    location / {\n",
      "      return 404 \"{}\";\n",
      "    }\n",
      "\n",
      "  }\u001b[0m\n",
      "\u001b[34m}\n",
      "\n",
      "\u001b[0m\n",
      "\u001b[34m[2021-08-15 14:58:20 +0000] [19] [INFO] Starting gunicorn 19.10.0\u001b[0m\n",
      "\u001b[34m[2021-08-15 14:58:20 +0000] [19] [INFO] Listening at: unix:/tmp/gunicorn.sock (19)\u001b[0m\n",
      "\u001b[34m[2021-08-15 14:58:20 +0000] [19] [INFO] Using worker: gevent\u001b[0m\n",
      "\u001b[34m[2021-08-15 14:58:20 +0000] [26] [INFO] Booting worker with pid: 26\u001b[0m\n",
      "\u001b[34m[2021-08-15 14:58:20 +0000] [27] [INFO] Booting worker with pid: 27\u001b[0m\n",
      "\u001b[34m[2021-08-15 14:58:21 +0000] [31] [INFO] Booting worker with pid: 31\u001b[0m\n",
      "\u001b[34m[2021-08-15 14:58:21 +0000] [35] [INFO] Booting worker with pid: 35\u001b[0m\n",
      "\u001b[34m[2021-08-15:14:58:22:INFO] No GPUs detected (normal if no gpus installed)\u001b[0m\n",
      "\u001b[34m[2021-08-15:14:58:22:INFO] Loading the model from /opt/ml/model/xgboost-model\u001b[0m\n",
      "\u001b[34m[2021-08-15:14:58:22:INFO] Model objective : reg:squarederror\u001b[0m\n",
      "\u001b[34m[2021-08-15:14:58:22:INFO] No GPUs detected (normal if no gpus installed)\u001b[0m\n",
      "\u001b[34m[2021-08-15:14:58:22:INFO] Loading the model from /opt/ml/model/xgboost-model\u001b[0m\n",
      "\u001b[34m[2021-08-15:14:58:22:INFO] Model objective : reg:squarederror\u001b[0m\n",
      "\u001b[34m[2021-08-15:14:58:23:INFO] No GPUs detected (normal if no gpus installed)\u001b[0m\n",
      "\u001b[34m[2021-08-15:14:58:23:INFO] Loading the model from /opt/ml/model/xgboost-model\u001b[0m\n",
      "\u001b[34m[2021-08-15:14:58:23:INFO] Model objective : reg:squarederror\u001b[0m\n",
      "\u001b[34m[2021-08-15:14:58:23:INFO] No GPUs detected (normal if no gpus installed)\u001b[0m\n",
      "\u001b[34m[2021-08-15:14:58:23:INFO] Loading the model from /opt/ml/model/xgboost-model\u001b[0m\n",
      "\u001b[34m[2021-08-15:14:58:23:INFO] Model objective : reg:squarederror\u001b[0m\n",
      "\u001b[34m[2021-08-15:14:58:26:INFO] No GPUs detected (normal if no gpus installed)\u001b[0m\n",
      "\u001b[34m169.254.255.130 - - [15/Aug/2021:14:58:26 +0000] \"GET /ping HTTP/1.1\" 200 0 \"-\" \"Go-http-client/1.1\"\u001b[0m\n",
      "\u001b[34m[2021-08-15:14:58:26:INFO] No GPUs detected (normal if no gpus installed)\u001b[0m\n",
      "\u001b[34m169.254.255.130 - - [15/Aug/2021:14:58:26 +0000] \"GET /execution-parameters HTTP/1.1\" 200 84 \"-\" \"Go-http-client/1.1\"\u001b[0m\n",
      "\n",
      "\u001b[34m[2021-08-15:14:58:27:INFO] No GPUs detected (normal if no gpus installed)\u001b[0m\n",
      "\u001b[34m[2021-08-15:14:58:27:INFO] Determined delimiter of CSV input is ','\u001b[0m\n",
      "\u001b[34m[2021-08-15:14:58:27:INFO] Determined delimiter of CSV input is ','\u001b[0m\n",
      "\u001b[34m[2021-08-15:14:58:27:INFO] Determined delimiter of CSV input is ','\u001b[0m\n",
      "\u001b[34m[2021-08-15:14:58:27:INFO] No GPUs detected (normal if no gpus installed)\u001b[0m\n",
      "\u001b[34m[2021-08-15:14:58:27:INFO] Determined delimiter of CSV input is ','\u001b[0m\n",
      "\u001b[35m[2021-08-15:14:58:27:INFO] No GPUs detected (normal if no gpus installed)\u001b[0m\n",
      "\u001b[35m[2021-08-15:14:58:27:INFO] Determined delimiter of CSV input is ','\u001b[0m\n",
      "\u001b[35m[2021-08-15:14:58:27:INFO] Determined delimiter of CSV input is ','\u001b[0m\n",
      "\u001b[35m[2021-08-15:14:58:27:INFO] Determined delimiter of CSV input is ','\u001b[0m\n",
      "\u001b[35m[2021-08-15:14:58:27:INFO] No GPUs detected (normal if no gpus installed)\u001b[0m\n",
      "\u001b[35m[2021-08-15:14:58:27:INFO] Determined delimiter of CSV input is ','\u001b[0m\n",
      "\u001b[32m2021-08-15T14:58:26.546:[sagemaker logs]: MaxConcurrentTransforms=4, MaxPayloadInMB=6, BatchStrategy=MULTI_RECORD\u001b[0m\n",
      "\u001b[34m169.254.255.130 - - [15/Aug/2021:14:58:28 +0000] \"POST /invocations HTTP/1.1\" 200 1052764 \"-\" \"Go-http-client/1.1\"\u001b[0m\n",
      "\u001b[34m169.254.255.130 - - [15/Aug/2021:14:58:28 +0000] \"POST /invocations HTTP/1.1\" 200 1053514 \"-\" \"Go-http-client/1.1\"\u001b[0m\n",
      "\u001b[34m169.254.255.130 - - [15/Aug/2021:14:58:28 +0000] \"POST /invocations HTTP/1.1\" 200 1053175 \"-\" \"Go-http-client/1.1\"\u001b[0m\n",
      "\u001b[34m[2021-08-15:14:58:28:INFO] Determined delimiter of CSV input is ','\u001b[0m\n",
      "\u001b[34m169.254.255.130 - - [15/Aug/2021:14:58:28 +0000] \"POST /invocations HTTP/1.1\" 200 1052789 \"-\" \"Go-http-client/1.1\"\u001b[0m\n",
      "\u001b[35m169.254.255.130 - - [15/Aug/2021:14:58:28 +0000] \"POST /invocations HTTP/1.1\" 200 1052764 \"-\" \"Go-http-client/1.1\"\u001b[0m\n",
      "\u001b[35m169.254.255.130 - - [15/Aug/2021:14:58:28 +0000] \"POST /invocations HTTP/1.1\" 200 1053514 \"-\" \"Go-http-client/1.1\"\u001b[0m\n",
      "\u001b[35m169.254.255.130 - - [15/Aug/2021:14:58:28 +0000] \"POST /invocations HTTP/1.1\" 200 1053175 \"-\" \"Go-http-client/1.1\"\u001b[0m\n",
      "\u001b[35m[2021-08-15:14:58:28:INFO] Determined delimiter of CSV input is ','\u001b[0m\n",
      "\u001b[35m169.254.255.130 - - [15/Aug/2021:14:58:28 +0000] \"POST /invocations HTTP/1.1\" 200 1052789 \"-\" \"Go-http-client/1.1\"\u001b[0m\n",
      "\u001b[34m169.254.255.130 - - [15/Aug/2021:14:58:29 +0000] \"POST /invocations HTTP/1.1\" 200 858582 \"-\" \"Go-http-client/1.1\"\u001b[0m\n",
      "\u001b[35m169.254.255.130 - - [15/Aug/2021:14:58:29 +0000] \"POST /invocations HTTP/1.1\" 200 858582 \"-\" \"Go-http-client/1.1\"\u001b[0m\n"
     ]
    }
   ],
   "source": [
    "xgb_transformer.transform(train_location2,  content_type='text/csv', split_type='Line')"
   ]
  },
  {
   "cell_type": "code",
   "execution_count": 280,
   "id": "f71913dc",
   "metadata": {},
   "outputs": [
    {
     "data": {
      "text/plain": [
       "'sagemaker-xgboost-2021-08-15-14-52-37-656'"
      ]
     },
     "execution_count": 280,
     "metadata": {},
     "output_type": "execute_result"
    }
   ],
   "source": [
    "xgb_transformer.model_name"
   ]
  },
  {
   "cell_type": "code",
   "execution_count": 260,
   "id": "bee28118",
   "metadata": {},
   "outputs": [
    {
     "name": "stdout",
     "output_type": "stream",
     "text": [
      "download: s3://sagemaker-us-east-1-597418338686/sagemaker-xgboost-2021-08-15-14-52-38-081/X_train_n2.csv.out to Spotify_Data/X_train_n2.csv.out\n"
     ]
    }
   ],
   "source": [
    "!aws s3 cp --recursive $xgb_transformer.output_path $data_dir\n",
    "predictions = pd.read_csv(os.path.join(data_dir, 'X_train_n2.csv.out'), header=None)\n",
    "predictions = [round(num) for num in predictions.squeeze().values]"
   ]
  },
  {
   "cell_type": "code",
   "execution_count": 261,
   "id": "62d13012",
   "metadata": {},
   "outputs": [],
   "source": [
    "train_rmse = mean_squared_error(predictions, y_train, squared = False)"
   ]
  },
  {
   "cell_type": "code",
   "execution_count": 262,
   "id": "2446cb7c",
   "metadata": {},
   "outputs": [
    {
     "data": {
      "text/plain": [
       "15.001210786084785"
      ]
     },
     "execution_count": 262,
     "metadata": {},
     "output_type": "execute_result"
    }
   ],
   "source": [
    "train_rmse"
   ]
  },
  {
   "cell_type": "code",
   "execution_count": 263,
   "id": "6825dbfc",
   "metadata": {},
   "outputs": [
    {
     "name": "stdout",
     "output_type": "stream",
     "text": [
      "...................................\u001b[34m[2021-08-15:15:04:35:INFO] No GPUs detected (normal if no gpus installed)\u001b[0m\n",
      "\u001b[34m[2021-08-15:15:04:35:INFO] No GPUs detected (normal if no gpus installed)\u001b[0m\n",
      "\u001b[34m[2021-08-15:15:04:35:INFO] nginx config: \u001b[0m\n",
      "\u001b[34mworker_processes auto;\u001b[0m\n",
      "\u001b[34mdaemon off;\u001b[0m\n",
      "\u001b[34mpid /tmp/nginx.pid;\u001b[0m\n",
      "\u001b[34merror_log  /dev/stderr;\n",
      "\u001b[0m\n",
      "\u001b[34mworker_rlimit_nofile 4096;\n",
      "\u001b[0m\n",
      "\u001b[34mevents {\n",
      "  worker_connections 2048;\u001b[0m\n",
      "\u001b[34m}\n",
      "\u001b[0m\n",
      "\u001b[34mhttp {\n",
      "  include /etc/nginx/mime.types;\n",
      "  default_type application/octet-stream;\n",
      "  access_log /dev/stdout combined;\n",
      "\n",
      "  upstream gunicorn {\n",
      "    server unix:/tmp/gunicorn.sock;\n",
      "  }\n",
      "\n",
      "  server {\n",
      "    listen 8080 deferred;\n",
      "    client_max_body_size 0;\n",
      "\n",
      "    keepalive_timeout 3;\n",
      "\n",
      "    location ~ ^/(ping|invocations|execution-parameters) {\n",
      "      proxy_set_header X-Forwarded-For $proxy_add_x_forwarded_for;\n",
      "      proxy_set_header Host $http_host;\n",
      "      proxy_redirect off;\n",
      "      proxy_read_timeout 60s;\n",
      "      proxy_pass http://gunicorn;\n",
      "    }\n",
      "\n",
      "    location / {\n",
      "      return 404 \"{}\";\n",
      "    }\n",
      "\n",
      "  }\u001b[0m\n",
      "\u001b[34m}\n",
      "\n",
      "\u001b[0m\n",
      "\u001b[34m[2021-08-15 15:04:35 +0000] [19] [INFO] Starting gunicorn 19.10.0\u001b[0m\n",
      "\u001b[34m[2021-08-15 15:04:35 +0000] [19] [INFO] Listening at: unix:/tmp/gunicorn.sock (19)\u001b[0m\n",
      "\u001b[34m[2021-08-15 15:04:35 +0000] [19] [INFO] Using worker: gevent\u001b[0m\n",
      "\u001b[34m[2021-08-15 15:04:35 +0000] [26] [INFO] Booting worker with pid: 26\u001b[0m\n",
      "\u001b[34m[2021-08-15 15:04:35 +0000] [27] [INFO] Booting worker with pid: 27\u001b[0m\n",
      "\u001b[34m[2021-08-15 15:04:35 +0000] [28] [INFO] Booting worker with pid: 28\u001b[0m\n",
      "\u001b[34m[2021-08-15 15:04:35 +0000] [29] [INFO] Booting worker with pid: 29\u001b[0m\n",
      "\u001b[34m[2021-08-15:15:04:37:INFO] No GPUs detected (normal if no gpus installed)\u001b[0m\n",
      "\u001b[34m[2021-08-15:15:04:37:INFO] Loading the model from /opt/ml/model/xgboost-model\u001b[0m\n",
      "\u001b[34m[2021-08-15:15:04:37:INFO] Model objective : reg:squarederror\u001b[0m\n",
      "\u001b[34m[2021-08-15:15:04:37:INFO] No GPUs detected (normal if no gpus installed)\u001b[0m\n",
      "\u001b[34m[2021-08-15:15:04:37:INFO] Loading the model from /opt/ml/model/xgboost-model\u001b[0m\n",
      "\u001b[34m[2021-08-15:15:04:37:INFO] Model objective : reg:squarederror\u001b[0m\n",
      "\u001b[34m[2021-08-15:15:04:37:INFO] No GPUs detected (normal if no gpus installed)\u001b[0m\n",
      "\u001b[34m[2021-08-15:15:04:37:INFO] Loading the model from /opt/ml/model/xgboost-model\u001b[0m\n",
      "\u001b[34m[2021-08-15:15:04:37:INFO] Model objective : reg:squarederror\u001b[0m\n",
      "\u001b[34m[2021-08-15:15:04:37:INFO] No GPUs detected (normal if no gpus installed)\u001b[0m\n",
      "\u001b[34m[2021-08-15:15:04:37:INFO] Loading the model from /opt/ml/model/xgboost-model\u001b[0m\n",
      "\u001b[34m[2021-08-15:15:04:37:INFO] Model objective : reg:squarederror\u001b[0m\n",
      "\n",
      "\u001b[34m[2021-08-15:15:04:41:INFO] No GPUs detected (normal if no gpus installed)\u001b[0m\n",
      "\u001b[34m169.254.255.130 - - [15/Aug/2021:15:04:41 +0000] \"GET /ping HTTP/1.1\" 200 0 \"-\" \"Go-http-client/1.1\"\u001b[0m\n",
      "\u001b[34m169.254.255.130 - - [15/Aug/2021:15:04:41 +0000] \"GET /execution-parameters HTTP/1.1\" 200 84 \"-\" \"Go-http-client/1.1\"\u001b[0m\n",
      "\u001b[35m[2021-08-15:15:04:41:INFO] No GPUs detected (normal if no gpus installed)\u001b[0m\n",
      "\u001b[35m169.254.255.130 - - [15/Aug/2021:15:04:41 +0000] \"GET /ping HTTP/1.1\" 200 0 \"-\" \"Go-http-client/1.1\"\u001b[0m\n",
      "\u001b[35m169.254.255.130 - - [15/Aug/2021:15:04:41 +0000] \"GET /execution-parameters HTTP/1.1\" 200 84 \"-\" \"Go-http-client/1.1\"\u001b[0m\n",
      "\u001b[34m[2021-08-15:15:04:41:INFO] No GPUs detected (normal if no gpus installed)\u001b[0m\n",
      "\u001b[34m[2021-08-15:15:04:41:INFO] Determined delimiter of CSV input is ','\u001b[0m\n",
      "\u001b[34m169.254.255.130 - - [15/Aug/2021:15:04:41 +0000] \"POST /invocations HTTP/1.1\" 200 18319 \"-\" \"Go-http-client/1.1\"\u001b[0m\n",
      "\u001b[35m[2021-08-15:15:04:41:INFO] No GPUs detected (normal if no gpus installed)\u001b[0m\n",
      "\u001b[35m[2021-08-15:15:04:41:INFO] Determined delimiter of CSV input is ','\u001b[0m\n",
      "\u001b[35m169.254.255.130 - - [15/Aug/2021:15:04:41 +0000] \"POST /invocations HTTP/1.1\" 200 18319 \"-\" \"Go-http-client/1.1\"\u001b[0m\n",
      "\u001b[32m2021-08-15T15:04:41.403:[sagemaker logs]: MaxConcurrentTransforms=4, MaxPayloadInMB=6, BatchStrategy=MULTI_RECORD\u001b[0m\n"
     ]
    }
   ],
   "source": [
    "xgb_transformer.transform(val_location2,  content_type='text/csv', split_type='Line')"
   ]
  },
  {
   "cell_type": "code",
   "execution_count": 264,
   "id": "40d0bfff",
   "metadata": {},
   "outputs": [
    {
     "name": "stdout",
     "output_type": "stream",
     "text": [
      "download: s3://sagemaker-us-east-1-597418338686/sagemaker-xgboost-2021-08-15-14-58-53-919/X_val_n2.csv.out to Spotify_Data/X_val_n2.csv.out\r\n"
     ]
    }
   ],
   "source": [
    "!aws s3 cp --recursive $xgb_transformer.output_path $data_dir\n",
    "predictions = pd.read_csv(os.path.join(data_dir, 'X_val_n2.csv.out'), header=None)\n",
    "predictions = [round(num) for num in predictions.squeeze().values]"
   ]
  },
  {
   "cell_type": "code",
   "execution_count": 265,
   "id": "a0e66a12",
   "metadata": {},
   "outputs": [],
   "source": [
    "val_rmse = mean_squared_error(predictions, y_val, squared = False)"
   ]
  },
  {
   "cell_type": "code",
   "execution_count": 266,
   "id": "f4eb9279",
   "metadata": {},
   "outputs": [],
   "source": [
    "summary = summary.append({\"Classifier\":\"XGBoost\", \"Training set RMSE\":train_rmse, \"Validation set RMSE\": val_rmse}, ignore_index = True)"
   ]
  },
  {
   "cell_type": "code",
   "execution_count": 267,
   "id": "b06742a0",
   "metadata": {},
   "outputs": [
    {
     "data": {
      "text/html": [
       "<div>\n",
       "<style scoped>\n",
       "    .dataframe tbody tr th:only-of-type {\n",
       "        vertical-align: middle;\n",
       "    }\n",
       "\n",
       "    .dataframe tbody tr th {\n",
       "        vertical-align: top;\n",
       "    }\n",
       "\n",
       "    .dataframe thead th {\n",
       "        text-align: right;\n",
       "    }\n",
       "</style>\n",
       "<table border=\"1\" class=\"dataframe\">\n",
       "  <thead>\n",
       "    <tr style=\"text-align: right;\">\n",
       "      <th></th>\n",
       "      <th>Classifier</th>\n",
       "      <th>Training set RMSE</th>\n",
       "      <th>Validation set RMSE</th>\n",
       "    </tr>\n",
       "  </thead>\n",
       "  <tbody>\n",
       "    <tr>\n",
       "      <th>0</th>\n",
       "      <td>Null Model</td>\n",
       "      <td>17.710000</td>\n",
       "      <td>17.480000</td>\n",
       "    </tr>\n",
       "    <tr>\n",
       "      <th>1</th>\n",
       "      <td>Linear Regression</td>\n",
       "      <td>16.511983</td>\n",
       "      <td>16.594863</td>\n",
       "    </tr>\n",
       "    <tr>\n",
       "      <th>2</th>\n",
       "      <td>Decision Tree</td>\n",
       "      <td>15.187778</td>\n",
       "      <td>16.055428</td>\n",
       "    </tr>\n",
       "    <tr>\n",
       "      <th>3</th>\n",
       "      <td>Random Forest</td>\n",
       "      <td>15.064200</td>\n",
       "      <td>15.797037</td>\n",
       "    </tr>\n",
       "    <tr>\n",
       "      <th>4</th>\n",
       "      <td>XGBoost</td>\n",
       "      <td>15.001211</td>\n",
       "      <td>15.875988</td>\n",
       "    </tr>\n",
       "  </tbody>\n",
       "</table>\n",
       "</div>"
      ],
      "text/plain": [
       "          Classifier  Training set RMSE  Validation set RMSE\n",
       "0         Null Model          17.710000            17.480000\n",
       "1  Linear Regression          16.511983            16.594863\n",
       "2      Decision Tree          15.187778            16.055428\n",
       "3      Random Forest          15.064200            15.797037\n",
       "4            XGBoost          15.001211            15.875988"
      ]
     },
     "execution_count": 267,
     "metadata": {},
     "output_type": "execute_result"
    }
   ],
   "source": [
    "summary"
   ]
  },
  {
   "cell_type": "markdown",
   "id": "5343d8ef",
   "metadata": {},
   "source": [
    "## 3. K-Nearest Neighbors "
   ]
  },
  {
   "cell_type": "code",
   "execution_count": 281,
   "id": "7bb40940",
   "metadata": {},
   "outputs": [],
   "source": [
    "#creating model object\n",
    "knn = KNeighborsRegressor()"
   ]
  },
  {
   "cell_type": "code",
   "execution_count": 282,
   "id": "5d8946f6",
   "metadata": {},
   "outputs": [],
   "source": [
    "parameters = {'n_neighbors':[10,50, 100,200,500], 'weights':[\"distance\", \"uniform\"]}"
   ]
  },
  {
   "cell_type": "code",
   "execution_count": 283,
   "id": "5483849d",
   "metadata": {},
   "outputs": [
    {
     "data": {
      "text/plain": [
       "GridSearchCV(cv=PredefinedSplit(test_fold=array([-1, -1, ...,  0,  0])),\n",
       "             estimator=KNeighborsRegressor(),\n",
       "             param_grid={'n_neighbors': [10, 50, 100, 200, 500],\n",
       "                         'weights': ['distance', 'uniform']},\n",
       "             scoring='neg_root_mean_squared_error')"
      ]
     },
     "execution_count": 283,
     "metadata": {},
     "output_type": "execute_result"
    }
   ],
   "source": [
    "clf = GridSearchCV(knn, parameters, scoring = 'neg_root_mean_squared_error', cv = pds)\n",
    "clf.fit(X_n2, y)"
   ]
  },
  {
   "cell_type": "code",
   "execution_count": 284,
   "id": "8a1bca97",
   "metadata": {},
   "outputs": [
    {
     "data": {
      "text/plain": [
       "{'mean_fit_time': array([79.55018568, 80.08774757, 80.00764489, 80.06830239, 79.71821666,\n",
       "        80.10939503, 79.83831382, 79.88301158, 79.89936304, 80.08038187]),\n",
       " 'std_fit_time': array([0., 0., 0., 0., 0., 0., 0., 0., 0., 0.]),\n",
       " 'mean_score_time': array([0.19326425, 0.20025516, 0.3034265 , 0.27112103, 0.40337133,\n",
       "        0.39055729, 0.48407197, 0.4836123 , 0.75606537, 0.72430611]),\n",
       " 'std_score_time': array([0., 0., 0., 0., 0., 0., 0., 0., 0., 0.]),\n",
       " 'param_n_neighbors': masked_array(data=[10, 10, 50, 50, 100, 100, 200, 200, 500, 500],\n",
       "              mask=[False, False, False, False, False, False, False, False,\n",
       "                    False, False],\n",
       "        fill_value='?',\n",
       "             dtype=object),\n",
       " 'param_weights': masked_array(data=['distance', 'uniform', 'distance', 'uniform',\n",
       "                    'distance', 'uniform', 'distance', 'uniform',\n",
       "                    'distance', 'uniform'],\n",
       "              mask=[False, False, False, False, False, False, False, False,\n",
       "                    False, False],\n",
       "        fill_value='?',\n",
       "             dtype=object),\n",
       " 'params': [{'n_neighbors': 10, 'weights': 'distance'},\n",
       "  {'n_neighbors': 10, 'weights': 'uniform'},\n",
       "  {'n_neighbors': 50, 'weights': 'distance'},\n",
       "  {'n_neighbors': 50, 'weights': 'uniform'},\n",
       "  {'n_neighbors': 100, 'weights': 'distance'},\n",
       "  {'n_neighbors': 100, 'weights': 'uniform'},\n",
       "  {'n_neighbors': 200, 'weights': 'distance'},\n",
       "  {'n_neighbors': 200, 'weights': 'uniform'},\n",
       "  {'n_neighbors': 500, 'weights': 'distance'},\n",
       "  {'n_neighbors': 500, 'weights': 'uniform'}],\n",
       " 'split0_test_score': array([-16.79396021, -16.77599923, -16.04086034, -16.04107736,\n",
       "        -15.88994571, -15.89090533, -15.80633051, -15.8087883 ,\n",
       "        -15.84395479, -15.86078902]),\n",
       " 'mean_test_score': array([-16.79396021, -16.77599923, -16.04086034, -16.04107736,\n",
       "        -15.88994571, -15.89090533, -15.80633051, -15.8087883 ,\n",
       "        -15.84395479, -15.86078902]),\n",
       " 'std_test_score': array([0., 0., 0., 0., 0., 0., 0., 0., 0., 0.]),\n",
       " 'rank_test_score': array([10,  9,  7,  8,  5,  6,  1,  2,  3,  4], dtype=int32)}"
      ]
     },
     "execution_count": 284,
     "metadata": {},
     "output_type": "execute_result"
    }
   ],
   "source": [
    "clf.cv_results_"
   ]
  },
  {
   "cell_type": "code",
   "execution_count": 291,
   "id": "2d878a17",
   "metadata": {},
   "outputs": [
    {
     "data": {
      "text/plain": [
       "{'n_neighbors': 200, 'weights': 'distance'}"
      ]
     },
     "execution_count": 291,
     "metadata": {},
     "output_type": "execute_result"
    }
   ],
   "source": [
    "clf.best_params_"
   ]
  },
  {
   "cell_type": "code",
   "execution_count": 292,
   "id": "a838fde5",
   "metadata": {},
   "outputs": [
    {
     "data": {
      "text/plain": [
       "KNeighborsRegressor(n_neighbors=200, weights='distance')"
      ]
     },
     "execution_count": 292,
     "metadata": {},
     "output_type": "execute_result"
    }
   ],
   "source": [
    "knn  = KNeighborsRegressor(n_neighbors = 200, weights = \"distance\")\n",
    "knn.fit(X_train_n2, y_train)"
   ]
  },
  {
   "cell_type": "code",
   "execution_count": 293,
   "id": "81750a22",
   "metadata": {},
   "outputs": [],
   "source": [
    "train_rmse = mean_squared_error(knn.predict(X_train_n2), y_train, squared = False)\n",
    "val_rmse = mean_squared_error(knn.predict(X_val_n2), y_val, squared = False)\n",
    "summary = summary.append({\"Classifier\":\"K-Nearest Neighbors\", \"Training set RMSE\":train_rmse, \"Validation set RMSE\": val_rmse}, ignore_index = True)"
   ]
  },
  {
   "cell_type": "code",
   "execution_count": 295,
   "id": "6244d447",
   "metadata": {},
   "outputs": [
    {
     "data": {
      "text/html": [
       "<div>\n",
       "<style scoped>\n",
       "    .dataframe tbody tr th:only-of-type {\n",
       "        vertical-align: middle;\n",
       "    }\n",
       "\n",
       "    .dataframe tbody tr th {\n",
       "        vertical-align: top;\n",
       "    }\n",
       "\n",
       "    .dataframe thead th {\n",
       "        text-align: right;\n",
       "    }\n",
       "</style>\n",
       "<table border=\"1\" class=\"dataframe\">\n",
       "  <thead>\n",
       "    <tr style=\"text-align: right;\">\n",
       "      <th></th>\n",
       "      <th>Classifier</th>\n",
       "      <th>Training set RMSE</th>\n",
       "      <th>Validation set RMSE</th>\n",
       "    </tr>\n",
       "  </thead>\n",
       "  <tbody>\n",
       "    <tr>\n",
       "      <th>0</th>\n",
       "      <td>Null Model</td>\n",
       "      <td>17.710000</td>\n",
       "      <td>17.480000</td>\n",
       "    </tr>\n",
       "    <tr>\n",
       "      <th>1</th>\n",
       "      <td>Linear Regression</td>\n",
       "      <td>16.511983</td>\n",
       "      <td>16.594863</td>\n",
       "    </tr>\n",
       "    <tr>\n",
       "      <th>2</th>\n",
       "      <td>Decision Tree</td>\n",
       "      <td>15.187778</td>\n",
       "      <td>16.055428</td>\n",
       "    </tr>\n",
       "    <tr>\n",
       "      <th>3</th>\n",
       "      <td>Random Forest</td>\n",
       "      <td>15.064200</td>\n",
       "      <td>15.797037</td>\n",
       "    </tr>\n",
       "    <tr>\n",
       "      <th>4</th>\n",
       "      <td>XGBoost</td>\n",
       "      <td>15.001211</td>\n",
       "      <td>15.875988</td>\n",
       "    </tr>\n",
       "    <tr>\n",
       "      <th>5</th>\n",
       "      <td>K-Nearest Neighbors</td>\n",
       "      <td>1.171800</td>\n",
       "      <td>15.889946</td>\n",
       "    </tr>\n",
       "    <tr>\n",
       "      <th>6</th>\n",
       "      <td>K-Nearest Neighbors</td>\n",
       "      <td>1.171800</td>\n",
       "      <td>15.806331</td>\n",
       "    </tr>\n",
       "  </tbody>\n",
       "</table>\n",
       "</div>"
      ],
      "text/plain": [
       "            Classifier  Training set RMSE  Validation set RMSE\n",
       "0           Null Model          17.710000            17.480000\n",
       "1    Linear Regression          16.511983            16.594863\n",
       "2        Decision Tree          15.187778            16.055428\n",
       "3        Random Forest          15.064200            15.797037\n",
       "4              XGBoost          15.001211            15.875988\n",
       "5  K-Nearest Neighbors           1.171800            15.889946\n",
       "6  K-Nearest Neighbors           1.171800            15.806331"
      ]
     },
     "execution_count": 295,
     "metadata": {},
     "output_type": "execute_result"
    }
   ],
   "source": [
    "summary"
   ]
  },
  {
   "cell_type": "markdown",
   "id": "b407ff1c",
   "metadata": {},
   "source": [
    "## Deployment "
   ]
  },
  {
   "cell_type": "code",
   "execution_count": 315,
   "id": "c47321ed",
   "metadata": {},
   "outputs": [],
   "source": [
    "summary_test = pd.DataFrame(columns = [\"Classifier\", \"Test set RMSE\"])"
   ]
  },
  {
   "cell_type": "code",
   "execution_count": 316,
   "id": "d5d2d438",
   "metadata": {},
   "outputs": [],
   "source": [
    "y_test_mean  = np.mean(y_test)\n",
    "test_rmse = np.round(mean_squared_error([y_test_mean] * y_test.shape[0], y_test, squared = False), 2)"
   ]
  },
  {
   "cell_type": "code",
   "execution_count": 317,
   "id": "ebe5d7c6",
   "metadata": {},
   "outputs": [],
   "source": [
    "summary_test = summary_test.append({\"Classifier\":\"Null Model\",\"Test set RMSE\": test_rmse}, ignore_index = True)"
   ]
  },
  {
   "cell_type": "code",
   "execution_count": 318,
   "id": "ace3cafe",
   "metadata": {},
   "outputs": [
    {
     "data": {
      "text/html": [
       "<div>\n",
       "<style scoped>\n",
       "    .dataframe tbody tr th:only-of-type {\n",
       "        vertical-align: middle;\n",
       "    }\n",
       "\n",
       "    .dataframe tbody tr th {\n",
       "        vertical-align: top;\n",
       "    }\n",
       "\n",
       "    .dataframe thead th {\n",
       "        text-align: right;\n",
       "    }\n",
       "</style>\n",
       "<table border=\"1\" class=\"dataframe\">\n",
       "  <thead>\n",
       "    <tr style=\"text-align: right;\">\n",
       "      <th></th>\n",
       "      <th>Classifier</th>\n",
       "      <th>Test set RMSE</th>\n",
       "    </tr>\n",
       "  </thead>\n",
       "  <tbody>\n",
       "    <tr>\n",
       "      <th>0</th>\n",
       "      <td>Null Model</td>\n",
       "      <td>16.91</td>\n",
       "    </tr>\n",
       "  </tbody>\n",
       "</table>\n",
       "</div>"
      ],
      "text/plain": [
       "   Classifier  Test set RMSE\n",
       "0  Null Model          16.91"
      ]
     },
     "execution_count": 318,
     "metadata": {},
     "output_type": "execute_result"
    }
   ],
   "source": [
    "summary_test"
   ]
  },
  {
   "cell_type": "markdown",
   "id": "02fc2938",
   "metadata": {},
   "source": [
    "### Deploying Random Forest"
   ]
  },
  {
   "cell_type": "code",
   "execution_count": 319,
   "id": "ada41e9e",
   "metadata": {},
   "outputs": [],
   "source": [
    "X_test_n2.to_csv(\"Spotify_Data/X_test_n2.csv\", header = False, index = False)"
   ]
  },
  {
   "cell_type": "code",
   "execution_count": 320,
   "id": "07300dbf",
   "metadata": {},
   "outputs": [],
   "source": [
    "test_location2 = session.upload_data(os.path.join(data_dir, 'X_test_n2.csv'), key_prefix=prefix)"
   ]
  },
  {
   "cell_type": "code",
   "execution_count": 321,
   "id": "3386aa93",
   "metadata": {},
   "outputs": [
    {
     "name": "stderr",
     "output_type": "stream",
     "text": [
      "train_instance_count has been renamed in sagemaker>=2.\n",
      "See: https://sagemaker.readthedocs.io/en/stable/v2.html for details.\n",
      "train_instance_count has been renamed in sagemaker>=2.\n",
      "See: https://sagemaker.readthedocs.io/en/stable/v2.html for details.\n"
     ]
    }
   ],
   "source": [
    "from sagemaker.sklearn.estimator import SKLearn\n",
    "\n",
    "# specify an output path\n",
    "output_path = 's3://{}/{}'.format(bucket, prefix)\n",
    "\n",
    "# instantiate RandomForest model object from train.py script\n",
    "estimator = SKLearn(entry_point = 'train.py',\n",
    "                 source_dir = 'source_sklearn',\n",
    "                 role=role,\n",
    "                 train_instance_count=1, \n",
    "                 py_version = 'py3',\n",
    "                 framework_version = '0.23-1',\n",
    "                 instance_type = 'ml.c4.xlarge',\n",
    "                 sagemaker_session = session,\n",
    "                 output_path = output_path,)"
   ]
  },
  {
   "cell_type": "code",
   "execution_count": 322,
   "id": "d150db46",
   "metadata": {},
   "outputs": [
    {
     "name": "stdout",
     "output_type": "stream",
     "text": [
      "2021-08-15 18:03:06 Starting - Starting the training job...\n",
      "2021-08-15 18:03:08 Starting - Launching requested ML instancesProfilerReport-1629050586: InProgress\n",
      "...\n",
      "2021-08-15 18:04:03 Starting - Preparing the instances for training.........\n",
      "2021-08-15 18:05:35 Downloading - Downloading input data...\n",
      "2021-08-15 18:05:56 Training - Downloading the training image..\n",
      "2021-08-15 18:06:36 Uploading - Uploading generated training model\u001b[34m2021-08-15 18:06:21,180 sagemaker-containers INFO     Imported framework sagemaker_sklearn_container.training\u001b[0m\n",
      "\u001b[34m2021-08-15 18:06:21,183 sagemaker-training-toolkit INFO     No GPUs detected (normal if no gpus installed)\u001b[0m\n",
      "\u001b[34m2021-08-15 18:06:21,193 sagemaker_sklearn_container.training INFO     Invoking user training script.\u001b[0m\n",
      "\u001b[34m2021-08-15 18:06:21,554 sagemaker-training-toolkit INFO     No GPUs detected (normal if no gpus installed)\u001b[0m\n",
      "\u001b[34m2021-08-15 18:06:21,567 sagemaker-training-toolkit INFO     No GPUs detected (normal if no gpus installed)\u001b[0m\n",
      "\u001b[34m2021-08-15 18:06:21,580 sagemaker-training-toolkit INFO     No GPUs detected (normal if no gpus installed)\u001b[0m\n",
      "\u001b[34m2021-08-15 18:06:21,590 sagemaker-training-toolkit INFO     Invoking user script\n",
      "\u001b[0m\n",
      "\u001b[34mTraining Env:\n",
      "\u001b[0m\n",
      "\u001b[34m{\n",
      "    \"additional_framework_parameters\": {},\n",
      "    \"channel_input_dirs\": {\n",
      "        \"train\": \"/opt/ml/input/data/train\"\n",
      "    },\n",
      "    \"current_host\": \"algo-1\",\n",
      "    \"framework_module\": \"sagemaker_sklearn_container.training:main\",\n",
      "    \"hosts\": [\n",
      "        \"algo-1\"\n",
      "    ],\n",
      "    \"hyperparameters\": {},\n",
      "    \"input_config_dir\": \"/opt/ml/input/config\",\n",
      "    \"input_data_config\": {\n",
      "        \"train\": {\n",
      "            \"ContentType\": \"csv\",\n",
      "            \"TrainingInputMode\": \"File\",\n",
      "            \"S3DistributionType\": \"FullyReplicated\",\n",
      "            \"RecordWrapperType\": \"None\"\n",
      "        }\n",
      "    },\n",
      "    \"input_dir\": \"/opt/ml/input\",\n",
      "    \"is_master\": true,\n",
      "    \"job_name\": \"sagemaker-scikit-learn-2021-08-15-18-03-06-435\",\n",
      "    \"log_level\": 20,\n",
      "    \"master_hostname\": \"algo-1\",\n",
      "    \"model_dir\": \"/opt/ml/model\",\n",
      "    \"module_dir\": \"s3://sagemaker-us-east-1-597418338686/sagemaker-scikit-learn-2021-08-15-18-03-06-435/source/sourcedir.tar.gz\",\n",
      "    \"module_name\": \"train\",\n",
      "    \"network_interface_name\": \"eth0\",\n",
      "    \"num_cpus\": 4,\n",
      "    \"num_gpus\": 0,\n",
      "    \"output_data_dir\": \"/opt/ml/output/data\",\n",
      "    \"output_dir\": \"/opt/ml/output\",\n",
      "    \"output_intermediate_dir\": \"/opt/ml/output/intermediate\",\n",
      "    \"resource_config\": {\n",
      "        \"current_host\": \"algo-1\",\n",
      "        \"hosts\": [\n",
      "            \"algo-1\"\n",
      "        ],\n",
      "        \"network_interface_name\": \"eth0\"\n",
      "    },\n",
      "    \"user_entry_point\": \"train.py\"\u001b[0m\n",
      "\u001b[34m}\n",
      "\u001b[0m\n",
      "\u001b[34mEnvironment variables:\n",
      "\u001b[0m\n",
      "\u001b[34mSM_HOSTS=[\"algo-1\"]\u001b[0m\n",
      "\u001b[34mSM_NETWORK_INTERFACE_NAME=eth0\u001b[0m\n",
      "\u001b[34mSM_HPS={}\u001b[0m\n",
      "\u001b[34mSM_USER_ENTRY_POINT=train.py\u001b[0m\n",
      "\u001b[34mSM_FRAMEWORK_PARAMS={}\u001b[0m\n",
      "\u001b[34mSM_RESOURCE_CONFIG={\"current_host\":\"algo-1\",\"hosts\":[\"algo-1\"],\"network_interface_name\":\"eth0\"}\u001b[0m\n",
      "\u001b[34mSM_INPUT_DATA_CONFIG={\"train\":{\"ContentType\":\"csv\",\"RecordWrapperType\":\"None\",\"S3DistributionType\":\"FullyReplicated\",\"TrainingInputMode\":\"File\"}}\u001b[0m\n",
      "\u001b[34mSM_OUTPUT_DATA_DIR=/opt/ml/output/data\u001b[0m\n",
      "\u001b[34mSM_CHANNELS=[\"train\"]\u001b[0m\n",
      "\u001b[34mSM_CURRENT_HOST=algo-1\u001b[0m\n",
      "\u001b[34mSM_MODULE_NAME=train\u001b[0m\n",
      "\u001b[34mSM_LOG_LEVEL=20\u001b[0m\n",
      "\u001b[34mSM_FRAMEWORK_MODULE=sagemaker_sklearn_container.training:main\u001b[0m\n",
      "\u001b[34mSM_INPUT_DIR=/opt/ml/input\u001b[0m\n",
      "\u001b[34mSM_INPUT_CONFIG_DIR=/opt/ml/input/config\u001b[0m\n",
      "\u001b[34mSM_OUTPUT_DIR=/opt/ml/output\u001b[0m\n",
      "\u001b[34mSM_NUM_CPUS=4\u001b[0m\n",
      "\u001b[34mSM_NUM_GPUS=0\u001b[0m\n",
      "\u001b[34mSM_MODEL_DIR=/opt/ml/model\u001b[0m\n",
      "\u001b[34mSM_MODULE_DIR=s3://sagemaker-us-east-1-597418338686/sagemaker-scikit-learn-2021-08-15-18-03-06-435/source/sourcedir.tar.gz\u001b[0m\n",
      "\u001b[34mSM_TRAINING_ENV={\"additional_framework_parameters\":{},\"channel_input_dirs\":{\"train\":\"/opt/ml/input/data/train\"},\"current_host\":\"algo-1\",\"framework_module\":\"sagemaker_sklearn_container.training:main\",\"hosts\":[\"algo-1\"],\"hyperparameters\":{},\"input_config_dir\":\"/opt/ml/input/config\",\"input_data_config\":{\"train\":{\"ContentType\":\"csv\",\"RecordWrapperType\":\"None\",\"S3DistributionType\":\"FullyReplicated\",\"TrainingInputMode\":\"File\"}},\"input_dir\":\"/opt/ml/input\",\"is_master\":true,\"job_name\":\"sagemaker-scikit-learn-2021-08-15-18-03-06-435\",\"log_level\":20,\"master_hostname\":\"algo-1\",\"model_dir\":\"/opt/ml/model\",\"module_dir\":\"s3://sagemaker-us-east-1-597418338686/sagemaker-scikit-learn-2021-08-15-18-03-06-435/source/sourcedir.tar.gz\",\"module_name\":\"train\",\"network_interface_name\":\"eth0\",\"num_cpus\":4,\"num_gpus\":0,\"output_data_dir\":\"/opt/ml/output/data\",\"output_dir\":\"/opt/ml/output\",\"output_intermediate_dir\":\"/opt/ml/output/intermediate\",\"resource_config\":{\"current_host\":\"algo-1\",\"hosts\":[\"algo-1\"],\"network_interface_name\":\"eth0\"},\"user_entry_point\":\"train.py\"}\u001b[0m\n",
      "\u001b[34mSM_USER_ARGS=[]\u001b[0m\n",
      "\u001b[34mSM_OUTPUT_INTERMEDIATE_DIR=/opt/ml/output/intermediate\u001b[0m\n",
      "\u001b[34mSM_CHANNEL_TRAIN=/opt/ml/input/data/train\u001b[0m\n",
      "\u001b[34mPYTHONPATH=/opt/ml/code:/miniconda3/bin:/miniconda3/lib/python37.zip:/miniconda3/lib/python3.7:/miniconda3/lib/python3.7/lib-dynload:/miniconda3/lib/python3.7/site-packages\n",
      "\u001b[0m\n",
      "\u001b[34mInvoking script with the following command:\n",
      "\u001b[0m\n",
      "\u001b[34m/miniconda3/bin/python train.py\n",
      "\n",
      "\u001b[0m\n",
      "\u001b[34m2021-08-15 18:06:33,437 sagemaker-containers INFO     Reporting training SUCCESS\u001b[0m\n",
      "\n",
      "2021-08-15 18:06:56 Completed - Training job completed\n",
      "Training seconds: 71\n",
      "Billable seconds: 71\n",
      "CPU times: user 568 ms, sys: 24 ms, total: 592 ms\n",
      "Wall time: 4min 13s\n"
     ]
    }
   ],
   "source": [
    "%%time\n",
    "\n",
    "# Train estimator on S3 training data\n",
    "estimator.fit({'train': s3_input_train})"
   ]
  },
  {
   "cell_type": "code",
   "execution_count": 323,
   "id": "c50d6341",
   "metadata": {},
   "outputs": [
    {
     "name": "stdout",
     "output_type": "stream",
     "text": [
      "-----------------!"
     ]
    }
   ],
   "source": [
    "#deploy the model\n",
    "rf_predictor = estimator.deploy(initial_instance_count=1, instance_type='ml.t2.medium')"
   ]
  },
  {
   "cell_type": "code",
   "execution_count": 324,
   "id": "244cb966",
   "metadata": {},
   "outputs": [],
   "source": [
    "test_rmse = mean_squared_error(rf_predictor.predict(X_test_n2), y_test, squared = False)"
   ]
  },
  {
   "cell_type": "code",
   "execution_count": 325,
   "id": "b004bda1",
   "metadata": {},
   "outputs": [],
   "source": [
    "summary_test = summary_test.append({\"Classifier\":\"Random Forest\",\"Test set RMSE\": test_rmse}, ignore_index = True)"
   ]
  },
  {
   "cell_type": "code",
   "execution_count": 326,
   "id": "15d35030",
   "metadata": {
    "scrolled": true
   },
   "outputs": [
    {
     "data": {
      "text/html": [
       "<div>\n",
       "<style scoped>\n",
       "    .dataframe tbody tr th:only-of-type {\n",
       "        vertical-align: middle;\n",
       "    }\n",
       "\n",
       "    .dataframe tbody tr th {\n",
       "        vertical-align: top;\n",
       "    }\n",
       "\n",
       "    .dataframe thead th {\n",
       "        text-align: right;\n",
       "    }\n",
       "</style>\n",
       "<table border=\"1\" class=\"dataframe\">\n",
       "  <thead>\n",
       "    <tr style=\"text-align: right;\">\n",
       "      <th></th>\n",
       "      <th>Classifier</th>\n",
       "      <th>Test set RMSE</th>\n",
       "    </tr>\n",
       "  </thead>\n",
       "  <tbody>\n",
       "    <tr>\n",
       "      <th>0</th>\n",
       "      <td>Null Model</td>\n",
       "      <td>16.910000</td>\n",
       "    </tr>\n",
       "    <tr>\n",
       "      <th>1</th>\n",
       "      <td>Random Forest</td>\n",
       "      <td>14.981915</td>\n",
       "    </tr>\n",
       "  </tbody>\n",
       "</table>\n",
       "</div>"
      ],
      "text/plain": [
       "      Classifier  Test set RMSE\n",
       "0     Null Model      16.910000\n",
       "1  Random Forest      14.981915"
      ]
     },
     "execution_count": 326,
     "metadata": {},
     "output_type": "execute_result"
    }
   ],
   "source": [
    "summary_test"
   ]
  },
  {
   "cell_type": "markdown",
   "id": "eaf2477e",
   "metadata": {},
   "source": [
    "### Deploying K-Nearest Neighbors"
   ]
  },
  {
   "cell_type": "code",
   "execution_count": 310,
   "id": "a0a04f1c",
   "metadata": {},
   "outputs": [
    {
     "name": "stderr",
     "output_type": "stream",
     "text": [
      "train_instance_count has been renamed in sagemaker>=2.\n",
      "See: https://sagemaker.readthedocs.io/en/stable/v2.html for details.\n",
      "train_instance_count has been renamed in sagemaker>=2.\n",
      "See: https://sagemaker.readthedocs.io/en/stable/v2.html for details.\n"
     ]
    }
   ],
   "source": [
    "from sagemaker.sklearn.estimator import SKLearn\n",
    "\n",
    "# specify an output path\n",
    "output_path = 's3://{}/{}'.format(bucket, prefix)\n",
    "\n",
    "# instantiate K-Nearest Neighbots model object from train.py script\n",
    "estimator = SKLearn(entry_point = 'train2.py',\n",
    "                 source_dir = 'source_sklearn',\n",
    "                 role=role,\n",
    "                 train_instance_count=1, \n",
    "                 py_version = 'py3',\n",
    "                 framework_version = '0.23-1',\n",
    "                 instance_type = 'ml.c4.xlarge',\n",
    "                 sagemaker_session = session,\n",
    "                 output_path = output_path,)"
   ]
  },
  {
   "cell_type": "code",
   "execution_count": 311,
   "id": "053df2ee",
   "metadata": {},
   "outputs": [
    {
     "name": "stdout",
     "output_type": "stream",
     "text": [
      "2021-08-15 17:33:15 Starting - Starting the training job...\n",
      "2021-08-15 17:33:39 Starting - Launching requested ML instancesProfilerReport-1629048795: InProgress\n",
      "...\n",
      "2021-08-15 17:34:10 Starting - Preparing the instances for training.........\n",
      "2021-08-15 17:35:39 Downloading - Downloading input data...\n",
      "2021-08-15 17:35:59 Training - Downloading the training image..\u001b[34m2021-08-15 17:36:23,956 sagemaker-containers INFO     Imported framework sagemaker_sklearn_container.training\u001b[0m\n",
      "\u001b[34m2021-08-15 17:36:23,959 sagemaker-training-toolkit INFO     No GPUs detected (normal if no gpus installed)\u001b[0m\n",
      "\u001b[34m2021-08-15 17:36:23,968 sagemaker_sklearn_container.training INFO     Invoking user training script.\u001b[0m\n",
      "\u001b[34m2021-08-15 17:36:24,432 sagemaker-training-toolkit INFO     No GPUs detected (normal if no gpus installed)\u001b[0m\n",
      "\u001b[34m2021-08-15 17:36:25,861 sagemaker-training-toolkit INFO     No GPUs detected (normal if no gpus installed)\u001b[0m\n",
      "\u001b[34m2021-08-15 17:36:25,873 sagemaker-training-toolkit INFO     No GPUs detected (normal if no gpus installed)\u001b[0m\n",
      "\u001b[34m2021-08-15 17:36:25,883 sagemaker-training-toolkit INFO     Invoking user script\n",
      "\u001b[0m\n",
      "\u001b[34mTraining Env:\n",
      "\u001b[0m\n",
      "\u001b[34m{\n",
      "    \"additional_framework_parameters\": {},\n",
      "    \"channel_input_dirs\": {\n",
      "        \"train\": \"/opt/ml/input/data/train\"\n",
      "    },\n",
      "    \"current_host\": \"algo-1\",\n",
      "    \"framework_module\": \"sagemaker_sklearn_container.training:main\",\n",
      "    \"hosts\": [\n",
      "        \"algo-1\"\n",
      "    ],\n",
      "    \"hyperparameters\": {},\n",
      "    \"input_config_dir\": \"/opt/ml/input/config\",\n",
      "    \"input_data_config\": {\n",
      "        \"train\": {\n",
      "            \"ContentType\": \"csv\",\n",
      "            \"TrainingInputMode\": \"File\",\n",
      "            \"S3DistributionType\": \"FullyReplicated\",\n",
      "            \"RecordWrapperType\": \"None\"\n",
      "        }\n",
      "    },\n",
      "    \"input_dir\": \"/opt/ml/input\",\n",
      "    \"is_master\": true,\n",
      "    \"job_name\": \"sagemaker-scikit-learn-2021-08-15-17-33-15-362\",\n",
      "    \"log_level\": 20,\n",
      "    \"master_hostname\": \"algo-1\",\n",
      "    \"model_dir\": \"/opt/ml/model\",\n",
      "    \"module_dir\": \"s3://sagemaker-us-east-1-597418338686/sagemaker-scikit-learn-2021-08-15-17-33-15-362/source/sourcedir.tar.gz\",\n",
      "    \"module_name\": \"train2\",\n",
      "    \"network_interface_name\": \"eth0\",\n",
      "    \"num_cpus\": 4,\n",
      "    \"num_gpus\": 0,\n",
      "    \"output_data_dir\": \"/opt/ml/output/data\",\n",
      "    \"output_dir\": \"/opt/ml/output\",\n",
      "    \"output_intermediate_dir\": \"/opt/ml/output/intermediate\",\n",
      "    \"resource_config\": {\n",
      "        \"current_host\": \"algo-1\",\n",
      "        \"hosts\": [\n",
      "            \"algo-1\"\n",
      "        ],\n",
      "        \"network_interface_name\": \"eth0\"\n",
      "    },\n",
      "    \"user_entry_point\": \"train2.py\"\u001b[0m\n",
      "\u001b[34m}\n",
      "\u001b[0m\n",
      "\u001b[34mEnvironment variables:\n",
      "\u001b[0m\n",
      "\u001b[34mSM_HOSTS=[\"algo-1\"]\u001b[0m\n",
      "\u001b[34mSM_NETWORK_INTERFACE_NAME=eth0\u001b[0m\n",
      "\u001b[34mSM_HPS={}\u001b[0m\n",
      "\u001b[34mSM_USER_ENTRY_POINT=train2.py\u001b[0m\n",
      "\u001b[34mSM_FRAMEWORK_PARAMS={}\u001b[0m\n",
      "\u001b[34mSM_RESOURCE_CONFIG={\"current_host\":\"algo-1\",\"hosts\":[\"algo-1\"],\"network_interface_name\":\"eth0\"}\u001b[0m\n",
      "\u001b[34mSM_INPUT_DATA_CONFIG={\"train\":{\"ContentType\":\"csv\",\"RecordWrapperType\":\"None\",\"S3DistributionType\":\"FullyReplicated\",\"TrainingInputMode\":\"File\"}}\u001b[0m\n",
      "\u001b[34mSM_OUTPUT_DATA_DIR=/opt/ml/output/data\u001b[0m\n",
      "\u001b[34mSM_CHANNELS=[\"train\"]\u001b[0m\n",
      "\u001b[34mSM_CURRENT_HOST=algo-1\u001b[0m\n",
      "\u001b[34mSM_MODULE_NAME=train2\u001b[0m\n",
      "\u001b[34mSM_LOG_LEVEL=20\u001b[0m\n",
      "\u001b[34mSM_FRAMEWORK_MODULE=sagemaker_sklearn_container.training:main\u001b[0m\n",
      "\u001b[34mSM_INPUT_DIR=/opt/ml/input\u001b[0m\n",
      "\u001b[34mSM_INPUT_CONFIG_DIR=/opt/ml/input/config\u001b[0m\n",
      "\u001b[34mSM_OUTPUT_DIR=/opt/ml/output\u001b[0m\n",
      "\u001b[34mSM_NUM_CPUS=4\u001b[0m\n",
      "\u001b[34mSM_NUM_GPUS=0\u001b[0m\n",
      "\u001b[34mSM_MODEL_DIR=/opt/ml/model\u001b[0m\n",
      "\u001b[34mSM_MODULE_DIR=s3://sagemaker-us-east-1-597418338686/sagemaker-scikit-learn-2021-08-15-17-33-15-362/source/sourcedir.tar.gz\u001b[0m\n",
      "\u001b[34mSM_TRAINING_ENV={\"additional_framework_parameters\":{},\"channel_input_dirs\":{\"train\":\"/opt/ml/input/data/train\"},\"current_host\":\"algo-1\",\"framework_module\":\"sagemaker_sklearn_container.training:main\",\"hosts\":[\"algo-1\"],\"hyperparameters\":{},\"input_config_dir\":\"/opt/ml/input/config\",\"input_data_config\":{\"train\":{\"ContentType\":\"csv\",\"RecordWrapperType\":\"None\",\"S3DistributionType\":\"FullyReplicated\",\"TrainingInputMode\":\"File\"}},\"input_dir\":\"/opt/ml/input\",\"is_master\":true,\"job_name\":\"sagemaker-scikit-learn-2021-08-15-17-33-15-362\",\"log_level\":20,\"master_hostname\":\"algo-1\",\"model_dir\":\"/opt/ml/model\",\"module_dir\":\"s3://sagemaker-us-east-1-597418338686/sagemaker-scikit-learn-2021-08-15-17-33-15-362/source/sourcedir.tar.gz\",\"module_name\":\"train2\",\"network_interface_name\":\"eth0\",\"num_cpus\":4,\"num_gpus\":0,\"output_data_dir\":\"/opt/ml/output/data\",\"output_dir\":\"/opt/ml/output\",\"output_intermediate_dir\":\"/opt/ml/output/intermediate\",\"resource_config\":{\"current_host\":\"algo-1\",\"hosts\":[\"algo-1\"],\"network_interface_name\":\"eth0\"},\"user_entry_point\":\"train2.py\"}\u001b[0m\n",
      "\u001b[34mSM_USER_ARGS=[]\u001b[0m\n",
      "\u001b[34mSM_OUTPUT_INTERMEDIATE_DIR=/opt/ml/output/intermediate\u001b[0m\n",
      "\u001b[34mSM_CHANNEL_TRAIN=/opt/ml/input/data/train\u001b[0m\n",
      "\u001b[34mPYTHONPATH=/opt/ml/code:/miniconda3/bin:/miniconda3/lib/python37.zip:/miniconda3/lib/python3.7:/miniconda3/lib/python3.7/lib-dynload:/miniconda3/lib/python3.7/site-packages\n",
      "\u001b[0m\n",
      "\u001b[34mInvoking script with the following command:\n",
      "\u001b[0m\n",
      "\u001b[34m/miniconda3/bin/python train2.py\n",
      "\n",
      "\u001b[0m\n",
      "\n",
      "2021-08-15 17:36:39 Training - Training image download completed. Training in progress.\n",
      "2021-08-15 17:37:14 Uploading - Uploading generated training model\u001b[34m2021-08-15 17:37:09,955 sagemaker-containers INFO     Reporting training SUCCESS\u001b[0m\n",
      "\n",
      "2021-08-15 17:37:40 Completed - Training job completed\n",
      "Training seconds: 106\n",
      "Billable seconds: 106\n",
      "CPU times: user 639 ms, sys: 32 ms, total: 671 ms\n",
      "Wall time: 4min 44s\n"
     ]
    }
   ],
   "source": [
    "%%time\n",
    "\n",
    "# Train estimator on S3 training data\n",
    "estimator.fit({'train': s3_input_train})"
   ]
  },
  {
   "cell_type": "code",
   "execution_count": 312,
   "id": "4345c9fb",
   "metadata": {},
   "outputs": [
    {
     "name": "stdout",
     "output_type": "stream",
     "text": [
      "-------------------!"
     ]
    }
   ],
   "source": [
    "#deploy the model\n",
    "knn_predictor = estimator.deploy(initial_instance_count=1, instance_type='ml.t2.medium')"
   ]
  },
  {
   "cell_type": "code",
   "execution_count": 330,
   "id": "9376fd97",
   "metadata": {},
   "outputs": [],
   "source": [
    "test_rmse = mean_squared_error(knn_predictor.predict(X_test_n2), y_test, squared = False)"
   ]
  },
  {
   "cell_type": "code",
   "execution_count": 331,
   "id": "577f5068",
   "metadata": {},
   "outputs": [
    {
     "data": {
      "text/plain": [
       "14.78046842804002"
      ]
     },
     "execution_count": 331,
     "metadata": {},
     "output_type": "execute_result"
    }
   ],
   "source": [
    "test_rmse"
   ]
  },
  {
   "cell_type": "code",
   "execution_count": 332,
   "id": "c28dbd71",
   "metadata": {},
   "outputs": [],
   "source": [
    "summary_test = summary_test.append({\"Classifier\":\"K-Nearest Neighbors\",\"Test set RMSE\": test_rmse}, ignore_index = True)"
   ]
  },
  {
   "cell_type": "code",
   "execution_count": 337,
   "id": "de378170",
   "metadata": {
    "scrolled": true
   },
   "outputs": [
    {
     "data": {
      "text/html": [
       "<div>\n",
       "<style scoped>\n",
       "    .dataframe tbody tr th:only-of-type {\n",
       "        vertical-align: middle;\n",
       "    }\n",
       "\n",
       "    .dataframe tbody tr th {\n",
       "        vertical-align: top;\n",
       "    }\n",
       "\n",
       "    .dataframe thead th {\n",
       "        text-align: right;\n",
       "    }\n",
       "</style>\n",
       "<table border=\"1\" class=\"dataframe\">\n",
       "  <thead>\n",
       "    <tr style=\"text-align: right;\">\n",
       "      <th></th>\n",
       "      <th>Classifier</th>\n",
       "      <th>Test set RMSE</th>\n",
       "    </tr>\n",
       "  </thead>\n",
       "  <tbody>\n",
       "    <tr>\n",
       "      <th>0</th>\n",
       "      <td>Null Model</td>\n",
       "      <td>16.910000</td>\n",
       "    </tr>\n",
       "    <tr>\n",
       "      <th>1</th>\n",
       "      <td>Random Forest</td>\n",
       "      <td>14.981915</td>\n",
       "    </tr>\n",
       "    <tr>\n",
       "      <th>2</th>\n",
       "      <td>K-Nearest Neighbors</td>\n",
       "      <td>14.780468</td>\n",
       "    </tr>\n",
       "  </tbody>\n",
       "</table>\n",
       "</div>"
      ],
      "text/plain": [
       "            Classifier  Test set RMSE\n",
       "0           Null Model      16.910000\n",
       "1        Random Forest      14.981915\n",
       "2  K-Nearest Neighbors      14.780468"
      ]
     },
     "execution_count": 337,
     "metadata": {},
     "output_type": "execute_result"
    }
   ],
   "source": [
    "summary_test"
   ]
  },
  {
   "cell_type": "code",
   "execution_count": 338,
   "id": "c7c90709",
   "metadata": {},
   "outputs": [],
   "source": [
    "predictions = knn_predictor.predict(X_test_n2)"
   ]
  },
  {
   "cell_type": "code",
   "execution_count": 352,
   "id": "c484ddf1",
   "metadata": {},
   "outputs": [
    {
     "data": {
      "image/png": "[encoded data removed]",
      "text/plain": [
       "<Figure size 432x288 with 1 Axes>"
      ]
     },
     "metadata": {
      "needs_background": "light"
     },
     "output_type": "display_data"
    }
   ],
   "source": [
    "plt.plot(figsize = (20,4));\n",
    "plt.scatter(predictions, y_test, alpha = 0.5)\n",
    "plt.xlabel(\"Predictions\")\n",
    "plt.ylabel(\"Popularity\")\n",
    "plt.title(\"Test Set Results: KNN Classifier\");"
   ]
  },
  {
   "cell_type": "code",
   "execution_count": null,
   "id": "845196b7",
   "metadata": {},
   "outputs": [],
   "source": []
  }
 ],
 "metadata": {
  "kernelspec": {
   "display_name": "conda_amazonei_mxnet_p36",
   "language": "python",
   "name": "conda_amazonei_mxnet_p36"
  },
  "language_info": {
   "codemirror_mode": {
    "name": "ipython",
    "version": 3
   },
   "file_extension": ".py",
   "mimetype": "text/x-python",
   "name": "python",
   "nbconvert_exporter": "python",
   "pygments_lexer": "ipython3",
   "version": "3.6.13"
  }
 },
 "nbformat": 4,
 "nbformat_minor": 5
}
